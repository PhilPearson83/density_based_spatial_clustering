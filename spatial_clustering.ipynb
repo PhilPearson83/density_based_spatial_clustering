{
 "cells": [
  {
   "cell_type": "code",
   "execution_count": null,
   "metadata": {},
   "outputs": [],
   "source": [
    "import pandas as pd\n",
    "import geopandas as gpd\n",
    "import numpy as np\n",
    "import matplotlib.pyplot as plt\n",
    "import os\n",
    "from sklearn.cluster import DBSCAN\n",
    "from sklearn import metrics\n",
    "from geopy.distance import great_circle\n",
    "from shapely.geometry import MultiPoint\n",
    "from pyproj import Transformer\n",
    "import folium\n",
    "import webbrowser"
   ]
  },
  {
   "cell_type": "code",
   "execution_count": null,
   "metadata": {},
   "outputs": [],
   "source": [
    "%matplotlib inline"
   ]
  },
  {
   "cell_type": "code",
   "execution_count": null,
   "metadata": {},
   "outputs": [],
   "source": [
    "#find working folder\n",
    "dir_path = os.getcwd()"
   ]
  },
  {
   "cell_type": "code",
   "execution_count": null,
   "metadata": {},
   "outputs": [],
   "source": [
    "df = pd.read_csv(dir_path + '\\\\example\\\\example_data.csv')\n",
    "# convert x/y columns to number from text\n",
    "df[[\"EASTING\", \"NORTHING\"]] = df[[\"EASTING\", \"NORTHING\"]].apply(pd.to_numeric)"
   ]
  },
  {
   "cell_type": "code",
   "execution_count": null,
   "metadata": {},
   "outputs": [],
   "source": [
    "def vectorized_convert(df):\n",
    "    transformer = Transformer.from_crs(\"epsg:27700\", \"epsg:4326\")\n",
    "    converted = transformer.transform(df['EASTING'].tolist(), df['NORTHING'].tolist())\n",
    "    df['lat'] = converted[1]\n",
    "    df['lon'] = converted[0]\n",
    "    return df\n",
    "vec = vectorized_convert(df)"
   ]
  },
  {
   "cell_type": "code",
   "execution_count": null,
   "metadata": {
    "scrolled": true
   },
   "outputs": [],
   "source": [
    "vec = gpd.GeoDataFrame(vec, geometry=gpd.points_from_xy(vec['lat'], vec['lon']),crs=\"EPSG:4326\")"
   ]
  },
  {
   "cell_type": "code",
   "execution_count": null,
   "metadata": {},
   "outputs": [],
   "source": [
    "# read boundary into dataframe and transform\n",
    "service_area = gpd.read_file(dir_path + \"/data/geospatial/DSFRS_Service_Area.shp\")\n",
    "service_area = service_area.to_crs(epsg=4326)\n",
    "#transformer = Transformer.from_crs(\"epsg:27700\", \"epsg:4326\")\n",
    "#boundary = transformer.transform(boundary['geometry'])\n",
    "\n",
    "# combine and filter points within boundary\n",
    "vec = gpd.sjoin(vec, service_area, how=\"inner\", op='within')"
   ]
  },
  {
   "cell_type": "code",
   "execution_count": null,
   "metadata": {},
   "outputs": [],
   "source": [
    "coords = vec[['lat', 'lon']].values\n",
    "miles = 2\n",
    "conversion_factor = 0.62137119\n",
    "kilometers = miles / conversion_factor\n",
    "kms_per_radian = 6371.0088\n",
    "epsilon = kilometers / kms_per_radian\n",
    "# Compute DBSCAN\n",
    "db = DBSCAN(eps=epsilon, min_samples=12, metric='haversine', algorithm='ball_tree').fit(np.radians(coords))\n",
    "# Storing the labels formed\n",
    "labels = db.labels_\n",
    "# Identifying which points make up the “core points”\n",
    "core_points = np.zeros_like(labels, dtype = bool)\n",
    "core_points[db.core_sample_indices_] = True"
   ]
  },
  {
   "cell_type": "code",
   "execution_count": null,
   "metadata": {},
   "outputs": [],
   "source": [
    "# Number of clusters in labels, ignoring noise if present.\n",
    "num_clusters_ = len(set(labels)) - (1 if -1 in labels else 0)\n",
    "num_noise_ = list(labels).count(-1)\n",
    "print('Number of clusters: {}'.format(num_clusters_))\n",
    "print('Number of noise points: {}'.format(num_noise_))\n",
    "print(\"Silhouette Coefficient: %0.3f\" % metrics.silhouette_score(coords, labels))\n",
    "\n",
    "clusters = pd.Series([coords[labels == n] for n in range(num_clusters_)])\n",
    "print(clusters)"
   ]
  },
  {
   "cell_type": "code",
   "execution_count": null,
   "metadata": {},
   "outputs": [],
   "source": [
    "def get_centermost_point(cluster):\n",
    "    centroid = (MultiPoint(cluster).centroid.x, MultiPoint(cluster).centroid.y)\n",
    "    centermost_point = min(cluster, key=lambda point: great_circle(point, centroid).m)\n",
    "    return tuple(centermost_point)\n",
    "centermost_points = clusters.map(get_centermost_point)\n",
    "#print(centermost_points)\n",
    "#centermost_points.to_csv(\"centre.csv\", index=False)\n",
    "#lats, lons = zip(*centermost_points)\n",
    "#rep_points = pd.DataFrame({'lat':lats, 'lon':lons})\n",
    "rs = pd.DataFrame(list(centermost_points), columns=[\"lat\", \"lon\"])"
   ]
  },
  {
   "cell_type": "code",
   "execution_count": null,
   "metadata": {
    "scrolled": false
   },
   "outputs": [],
   "source": [
    "fig, ax = plt.subplots(figsize=[18, 10])\n",
    "rs_scatter = ax.scatter(rs['lat'], rs['lon'], c='#99cc99', edgecolor='None', alpha=0.7, s=300)\n",
    "df_scatter = ax.scatter(vec['lat'], vec['lon'], c='k', alpha=0.9, s=3)\n",
    "ax.set_title('Full data set vs DBSCAN reduced set')\n",
    "ax.set_xlabel('Latitude')\n",
    "ax.set_ylabel('Longitude')\n",
    "ax.legend([df_scatter, rs_scatter], ['Full set', 'Reduced set'], loc='upper right')\n",
    "plt.show()"
   ]
  },
  {
   "cell_type": "code",
   "execution_count": null,
   "metadata": {},
   "outputs": [],
   "source": [
    "mask = vec['ERS_TYPE'] == 'DWELLING'\n",
    "dwl = vec[mask]\n",
    "rtc = vec[~mask]"
   ]
  },
  {
   "cell_type": "code",
   "execution_count": null,
   "metadata": {
    "scrolled": false
   },
   "outputs": [],
   "source": [
    "# Build map \n",
    "m = folium.Map(location=(50.909614, -3.48), zoom_start=9, zoomSnap=0.1, zoomDelta=0.5, tiles=None, control_scale=True, layer_name = 'Shaking Intensity')\n",
    "folium.TileLayer('cartodbpositron',name='Greyscale').add_to(m)\n",
    "\n",
    "# set custom name for base layer\n",
    "#m = folium.Map((0, 0), tiles=None)\n",
    "#folium.TileLayer('cartodbpositron', name='my tilelayer').add_to(m)\n",
    "\n",
    "layer = folium.FeatureGroup(name='Clusters', show=True)\n",
    "layer2 = folium.FeatureGroup(name='Dwl Fires', show=True)\n",
    "layer3 = folium.FeatureGroup(name='RTCs', show=True)\n",
    "\n",
    "\n",
    "# add marker one by one for the clusters\n",
    "for i in range(0,len(rs)):\n",
    "   folium.CircleMarker(location=[rs.iloc[i]['lon'], rs.iloc[i]['lat']], radius=12, stroke=True, color='firebrick', weight=3, fill=False,\n",
    "      fill_color='#ffffff', fillOpacity=1).add_to(layer)\n",
    "\n",
    "# add marker one by one for dwl\n",
    "for i in range(0,len(dwl)):\n",
    "   folium.CircleMarker(location=[dwl.iloc[i]['lon'], dwl.iloc[i]['lat']], radius=4, stroke=False, color='#fffa76', opacity=0.8, weight=2, fill=True,\n",
    "      fill_color='#fffa76', fillOpacity=1).add_to(layer2)\n",
    "\n",
    "# add marker one by one for rtc\n",
    "for i in range(0,len(rtc)):\n",
    "   folium.CircleMarker(location=[rtc.iloc[i]['lon'], rtc.iloc[i]['lat']], radius=4, stroke=False, color='#f676ff', opacity=0.8, weight=2, fill=True,\n",
    "      fill_color='#f676ff', fillOpacity=1).add_to(layer3)\n",
    "\n",
    "# calculate bottom left and top right points and fit the window to those\n",
    "sw = vec[['lon', 'lat']].min().values.tolist()\n",
    "ne = vec[['lon', 'lat']].max().values.tolist()\n",
    "m.fit_bounds([sw, ne])\n",
    "\n",
    "style = {'color': '#a9a9a9', 'fillColor': '#f5f5f5' }  # 'lineColor': '#ffffbf' blue\n",
    "folium.GeoJson(service_area, name='Service_Area', style_function = lambda x: style).add_to(m)\n",
    "layer.add_to(m)\n",
    "layer2.add_to(m)\n",
    "layer3.add_to(m)\n",
    "\n",
    "#folium.GeoJson(service_area).add_to(m)\n",
    "folium.map.LayerControl('topright', collapsed=True).add_to(m) #, hideSingleBase=True\n",
    "#folium.LayerControl().add_to(m)\n",
    "m"
   ]
  }
 ],
 "metadata": {
  "kernelspec": {
   "display_name": "Python 3.7.4 64-bit",
   "language": "python",
   "name": "python3"
  },
  "language_info": {
   "codemirror_mode": {
    "name": "ipython",
    "version": 3
   },
   "file_extension": ".py",
   "mimetype": "text/x-python",
   "name": "python",
   "nbconvert_exporter": "python",
   "pygments_lexer": "ipython3",
   "version": "3.7.4"
  }
 },
 "nbformat": 4,
 "nbformat_minor": 2
}
