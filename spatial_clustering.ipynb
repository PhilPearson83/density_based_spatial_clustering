{
 "cells": [
  {
   "cell_type": "code",
   "execution_count": 1,
   "metadata": {},
   "outputs": [],
   "source": [
    "import pandas as pd\n",
    "import geopandas as gpd\n",
    "import numpy as np\n",
    "import matplotlib.pyplot as plt\n",
    "import mplleaflet as mpl\n",
    "from ipyleaflet import *\n",
    "from ipywidgets import Layout\n",
    "import os\n",
    "from sklearn.cluster import DBSCAN\n",
    "from sklearn import metrics\n",
    "from geopy.distance import great_circle\n",
    "from shapely.geometry import MultiPoint\n",
    "import pyodbc\n",
    "from pyproj import Proj, transform\n",
    "\n",
    "%matplotlib inline"
   ]
  },
  {
   "cell_type": "code",
   "execution_count": 2,
   "metadata": {},
   "outputs": [],
   "source": [
    "#find working folder\n",
    "dir_path = os.getcwd()"
   ]
  },
  {
   "cell_type": "code",
   "execution_count": 3,
   "metadata": {},
   "outputs": [],
   "source": [
    "# connection to server and databse\n",
    "conn = pyodbc.connect(\"Driver={SQL Server Native Client 11.0};\"\n",
    "                      \"Server=SQL1\\\\LIVE1;\"\n",
    "                      \"Database=CommonData;\"\n",
    "                      \"Trusted_Connection=yes;\")\n",
    "# Read the sql file\n",
    "query = open(dir_path + '/' + 'ers_failures.sql', 'r')"
   ]
  },
  {
   "cell_type": "code",
   "execution_count": 4,
   "metadata": {},
   "outputs": [],
   "source": [
    "# read the sql query and connection and create a dataframe\n",
    "df = pd.read_sql(query.read(), conn)"
   ]
  },
  {
   "cell_type": "code",
   "execution_count": 5,
   "metadata": {
    "tags": []
   },
   "outputs": [
    {
     "name": "stdout",
     "output_type": "stream",
     "text": [
      "<class 'pandas.core.frame.DataFrame'>\n",
      "RangeIndex: 921 entries, 0 to 920\n",
      "Data columns (total 6 columns):\n",
      " #   Column           Non-Null Count  Dtype         \n",
      "---  ------           --------------  -----         \n",
      " 0   INCIDENT_NUMBER  921 non-null    object        \n",
      " 1   CALL_TIME        921 non-null    datetime64[ns]\n",
      " 2   FINANCIAL_YEAR   921 non-null    object        \n",
      " 3   ERS_TYPE         921 non-null    object        \n",
      " 4   EASTING          921 non-null    int64         \n",
      " 5   NORTHING         921 non-null    int64         \n",
      "dtypes: datetime64[ns](1), int64(2), object(3)\n",
      "memory usage: 43.3+ KB\n",
      "None\n"
     ]
    }
   ],
   "source": [
    "# convert x/y columns to number from text\n",
    "df['EASTING'] = df['EASTING'].apply(lambda x: int(x))\n",
    "df['NORTHING'] = df['NORTHING'].apply(lambda x: int(x))\n",
    "#df[[\"EASTING\", \"NORTHING\"]] = df[[\"EASTING\", \"NORTHING\"]].apply(pd.to_numeric)\n",
    "print(df.info())"
   ]
  },
  {
   "cell_type": "code",
   "execution_count": 6,
   "metadata": {},
   "outputs": [
    {
     "name": "stdout",
     "output_type": "stream",
     "text": [
      "       INCIDENT_NUMBER               CALL_TIME FINANCIAL_YEAR  ERS_TYPE  \\\n",
      "0    HV017735-04092019 2019-09-04 10:50:05.140        2019/20       RTC   \n",
      "1    HV037231-23022019 2019-02-23 00:45:46.683        2018/19  DWELLING   \n",
      "2    HV037232-23022019 2019-02-23 00:45:42.793        2018/19  DWELLING   \n",
      "3    TV013746-02092019 2019-09-02 12:00:44.483        2019/20       RTC   \n",
      "4    TV015277-18082018 2018-08-18 18:08:05.547        2018/19  DWELLING   \n",
      "..                 ...                     ...            ...       ...   \n",
      "916  VV038607-14032020 2020-03-14 00:51:19.327        2019/20  DWELLING   \n",
      "917  VV038725-15032020 2020-03-15 19:24:35.283        2019/20       RTC   \n",
      "918  VV039962-29032020 2020-03-29 14:36:15.727        2019/20  DWELLING   \n",
      "919  VV040090-30032020 2020-03-30 12:24:30.917        2019/20  DWELLING   \n",
      "920  VV040248-31032020 2020-03-31 19:14:38.907        2019/20  DWELLING   \n",
      "\n",
      "     EASTING  NORTHING       lat        lon  \n",
      "0     345869    110831 -2.771038  50.894410  \n",
      "1     246081     57495 -4.166972  50.397130  \n",
      "2     245967     57406 -4.168539  50.396300  \n",
      "3     370780    129585 -2.418366  51.064849  \n",
      "4     344177    108819 -2.794785  50.876158  \n",
      "..       ...       ...       ...        ...  \n",
      "916   273036     43890 -3.783349  50.281282  \n",
      "917   249835    136745 -4.146539  51.110273  \n",
      "918   282973     69159 -3.651820  50.510492  \n",
      "919   295493    112005 -3.487455  50.898036  \n",
      "920   341046    115225 -2.840318  50.933445  \n",
      "\n",
      "[921 rows x 8 columns]\n"
     ]
    },
    {
     "name": "stderr",
     "output_type": "stream",
     "text": [
      "C:\\Users\\ppearson\\AppData\\Local\\Programs\\Python\\Python37\\lib\\site-packages\\pyproj\\crs.py:77: FutureWarning: '+init=<authority>:<code>' syntax is deprecated. '<authority>:<code>' is the preferred initialization method.\n",
      "  return _prepare_from_string(\" \".join(pjargs))\n"
     ]
    }
   ],
   "source": [
    "v84 = Proj(proj=\"latlong\",towgs84=\"0,0,0\",ellps=\"WGS84\")\n",
    "v36 = Proj(proj=\"latlong\", k=0.9996012717, ellps=\"airy\", towgs84=\"446.448,-125.157,542.060,0.1502,0.2470,0.8421,-20.4894\")\n",
    "vgrid = Proj(init=\"world:bng\")\n",
    "\n",
    "#def dfENtoLL84(df):\n",
    "#    vlon36, vlat36 = vgrid(df[\"EASTING\"].values, df[\"NORTHING\"].values, inverse=True)\n",
    "#    result = transform(v36, v84, vlon36, vlat36)\n",
    "#    # Transform the output to a Dataframe\n",
    "#    latlong = pd.DataFrame(index=df.index)\n",
    "#    for i in result:\n",
    "#        latlong[\"lon\"] = result[0]\n",
    "#        latlong[\"lat\"] = result[1]\n",
    "#    return latlong\n",
    "\n",
    "def vectorized_convert(df):\n",
    "    vlon36, vlat36 = vgrid(df['EASTING'].values,df['NORTHING'].values,inverse=True)\n",
    "    converted = transform(v36, v84, vlon36, vlat36)\n",
    "    df['lat'] = converted[0]\n",
    "    df['lon'] = converted[1]\n",
    "    return df\n",
    "\n",
    "#df2 = pd.DataFrame({'NORTHING': [378778, 384732],'EASTING': [366746, 364758]})\n",
    "vec = vectorized_convert(df)\n",
    "print(vec)\n",
    "#vec.to_csv(\"dd.csv\", index=False)"
   ]
  },
  {
   "cell_type": "code",
   "execution_count": 7,
   "metadata": {},
   "outputs": [
    {
     "name": "stdout",
     "output_type": "stream",
     "text": [
      "       INCIDENT_NUMBER               CALL_TIME FINANCIAL_YEAR  ERS_TYPE  \\\n",
      "0    HV017735-04092019 2019-09-04 10:50:05.140        2019/20       RTC   \n",
      "1    HV037231-23022019 2019-02-23 00:45:46.683        2018/19  DWELLING   \n",
      "2    HV037232-23022019 2019-02-23 00:45:42.793        2018/19  DWELLING   \n",
      "3    TV013746-02092019 2019-09-02 12:00:44.483        2019/20       RTC   \n",
      "4    TV015277-18082018 2018-08-18 18:08:05.547        2018/19  DWELLING   \n",
      "..                 ...                     ...            ...       ...   \n",
      "916  VV038607-14032020 2020-03-14 00:51:19.327        2019/20  DWELLING   \n",
      "917  VV038725-15032020 2020-03-15 19:24:35.283        2019/20       RTC   \n",
      "918  VV039962-29032020 2020-03-29 14:36:15.727        2019/20  DWELLING   \n",
      "919  VV040090-30032020 2020-03-30 12:24:30.917        2019/20  DWELLING   \n",
      "920  VV040248-31032020 2020-03-31 19:14:38.907        2019/20  DWELLING   \n",
      "\n",
      "     EASTING  NORTHING       lat        lon  \n",
      "0     345869    110831 -2.771038  50.894410  \n",
      "1     246081     57495 -4.166972  50.397130  \n",
      "2     245967     57406 -4.168539  50.396300  \n",
      "3     370780    129585 -2.418366  51.064849  \n",
      "4     344177    108819 -2.794785  50.876158  \n",
      "..       ...       ...       ...        ...  \n",
      "916   273036     43890 -3.783349  50.281282  \n",
      "917   249835    136745 -4.146539  51.110273  \n",
      "918   282973     69159 -3.651820  50.510492  \n",
      "919   295493    112005 -3.487455  50.898036  \n",
      "920   341046    115225 -2.840318  50.933445  \n",
      "\n",
      "[921 rows x 8 columns]\n"
     ]
    }
   ],
   "source": [
    "inProj, outProj = Proj('epsg:27700'), Proj('epsg:4326')\n",
    "\n",
    "def vectorized_convert(df):\n",
    "    converted = transform(inProj, outProj , df['EASTING'].tolist(), df['NORTHING'].tolist())\n",
    "    df['lat'] = converted[1]\n",
    "    df['lon'] = converted[0]\n",
    "    return df\n",
    "vec = vectorized_convert(df)\n",
    "print(vec)"
   ]
  },
  {
   "cell_type": "code",
   "execution_count": 8,
   "metadata": {},
   "outputs": [],
   "source": [
    "coords = vec[['lat', 'lon']].values\n",
    "miles = 2\n",
    "conversion_factor = 0.62137119\n",
    "kilometers = miles / conversion_factor\n",
    "kms_per_radian = 6371.0088\n",
    "epsilon = kilometers / kms_per_radian\n",
    "db = DBSCAN(eps=epsilon, min_samples=12, metric='haversine', algorithm='ball_tree').fit(np.radians(coords))\n",
    "cluster_labels = db.labels_\n",
    "#print(cluster_labels)"
   ]
  },
  {
   "cell_type": "code",
   "execution_count": 9,
   "metadata": {},
   "outputs": [
    {
     "name": "stdout",
     "output_type": "stream",
     "text": [
      "Number of clusters: 7\n",
      "0    [[-3.7073773206625993, 50.44090587671541], [-3...\n",
      "1    [[-4.1669722748369775, 50.39712980254106], [-4...\n",
      "2    [[-2.945558441726794, 51.23744538894077], [-2....\n",
      "3    [[-3.6518203950564305, 50.51049233612191], [-3...\n",
      "4    [[-3.5161100671119274, 50.46373782748626], [-3...\n",
      "5    [[-4.07637489263831, 50.38857448745183], [-4.0...\n",
      "6    [[-3.5013258725719703, 50.72647567256655], [-3...\n",
      "dtype: object\n",
      "Silhouette Coefficient: -0.436\n"
     ]
    }
   ],
   "source": [
    "# calculate the number of clusters\n",
    "num_clusters = len(set(cluster_labels)) - (1 if -1 in cluster_labels else 0)\n",
    "print('Number of clusters: {}'.format(num_clusters))\n",
    "clusters = pd.Series([coords[cluster_labels == n] for n in range(num_clusters)])\n",
    "print(clusters)\n",
    "# identify core points\n",
    "core_points = np.zeros_like(cluster_labels, dtype = bool)\n",
    "core_points[db.core_sample_indices_] = True\n",
    "#print(core_points)\n",
    "print(\"Silhouette Coefficient: %0.3f\" % metrics.silhouette_score(coords, cluster_labels))"
   ]
  },
  {
   "cell_type": "code",
   "execution_count": 10,
   "metadata": {},
   "outputs": [],
   "source": [
    "def get_centermost_point(cluster):\n",
    "    centroid = (MultiPoint(cluster).centroid.x, MultiPoint(cluster).centroid.y)\n",
    "    centermost_point = min(cluster, key=lambda point: great_circle(point, centroid).m)\n",
    "    return tuple(centermost_point)\n",
    "centermost_points = clusters.map(get_centermost_point)\n",
    "#print(centermost_points)\n",
    "centermost_points.to_csv(\"centre.csv\", index=False)\n",
    "lats, lons = zip(*centermost_points)\n",
    "rep_points = pd.DataFrame({'lat':lats, 'lon':lons})\n",
    "rs = rep_points\n",
    "#rs = rep_points.apply(lambda row: df[(df['lat']==row['lat']) &amp;&amp; (df['lon']==row['lon'])].iloc[0], axis=1)"
   ]
  },
  {
   "cell_type": "code",
   "execution_count": 11,
   "metadata": {},
   "outputs": [
    {
     "data": {
      "image/png": "[encoded data removed]",
      "text/plain": [
       "<Figure size 1296x720 with 1 Axes>"
      ]
     },
     "metadata": {
      "needs_background": "light"
     },
     "output_type": "display_data"
    }
   ],
   "source": [
    "fig, ax = plt.subplots(figsize=[18, 10])\n",
    "rs_scatter = ax.scatter(rs['lat'], rs['lon'], c='#99cc99', edgecolor='None', alpha=0.7, s=300)\n",
    "df_scatter = ax.scatter(df['lat'], df['lon'], c='k', alpha=0.9, s=3)\n",
    "ax.set_title('Full data set vs DBSCAN reduced set')\n",
    "ax.set_xlabel('Latitude')\n",
    "ax.set_ylabel('Longitude')\n",
    "ax.legend([df_scatter, rs_scatter], ['Full set', 'Reduced set'], loc='upper right')\n",
    "plt.show()"
   ]
  },
  {
   "cell_type": "code",
   "execution_count": 12,
   "metadata": {},
   "outputs": [
    {
     "name": "stderr",
     "output_type": "stream",
     "text": [
      "C:\\Users\\ppearson\\AppData\\Local\\Programs\\Python\\Python37\\lib\\site-packages\\IPython\\core\\display.py:701: UserWarning: Consider using IPython.display.IFrame instead\n",
      "  warnings.warn(\"Consider using IPython.display.IFrame instead\")\n"
     ]
    },
    {
     "data": {
      "text/html": [
       "<iframe src=\"data:text/html;base64,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\" width=\"100%\" height=\"480\"></iframe>"
      ],
      "text/plain": [
       "<IPython.core.display.HTML object>"
      ]
     },
     "execution_count": 12,
     "metadata": {},
     "output_type": "execute_result"
    }
   ],
   "source": [
    "## make the figure\n",
    "fig = plt.figure(figsize=(8,8))\n",
    "ax = fig.add_subplot(111)\n",
    "\n",
    "## plot ride data\n",
    "plt.plot(rs['lat'], rs['lon'], 'or', alpha = .5, markersize=20)\n",
    "\n",
    "## display the Leaflet\n",
    "# mpl.show()     # opens in a new interactive tab\n",
    "mpl.display()  # shows interactive map inline in Jupyter but cannot handle large data sets"
   ]
  },
  {
   "cell_type": "code",
   "execution_count": 13,
   "metadata": {},
   "outputs": [],
   "source": [
    "gdf = gpd.GeoDataFrame(rs, geometry=gpd.points_from_xy(rs['lat'], rs['lon']))\n",
    "\n",
    "geo_data = GeoData(geo_dataframe = gdf,\n",
    "                   style={'color': 'black', 'fillColor': '#3366cc', 'opacity':0.05, 'weight':1.9, 'dashArray':'2', 'fillOpacity':0.6},\n",
    "                   hover_style={'fillColor': 'red' , 'fillOpacity': 0.2},\n",
    "                   name = 'Countries')"
   ]
  },
  {
   "cell_type": "code",
   "execution_count": null,
   "metadata": {},
   "outputs": [],
   "source": [
    "defaultlayout=Layout(width='960px', height='540px')\n",
    "center=[50.909614, -3.48]\n",
    "zoom=8\n",
    "m=Map(center=center, zoom=zoom, basemap=basemaps.CartoDB.Positron, layout=defaultlayout)\n",
    "m.add_layer(geo_data)\n",
    "m.add_control(LayersControl())\n",
    "m"
   ]
  },
  {
   "cell_type": "code",
   "execution_count": 44,
   "metadata": {
    "scrolled": false
   },
   "outputs": [
    {
     "data": {
      "text/html": [
       "<div style=\"width:100%;\"><div style=\"position:relative;width:100%;height:0;padding-bottom:60%;\"><span style=\"color:#565656\">Make this Notebook Trusted to load map: File -> Trust Notebook</span><iframe src=\"about:blank\" style=\"position:absolute;width:100%;height:100%;left:0;top:0;border:none !important;\" data-html=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 onload=\"this.contentDocument.open();this.contentDocument.write(atob(this.getAttribute('data-html')));this.contentDocument.close();\" allowfullscreen webkitallowfullscreen mozallowfullscreen></iframe></div></div>"
      ],
      "text/plain": [
       "<folium.folium.Map at 0x1ea5dfd4408>"
      ]
     },
     "execution_count": 44,
     "metadata": {},
     "output_type": "execute_result"
    }
   ],
   "source": [
    "import folium\n",
    "# Build map \n",
    "m = folium.Map(location=(50.909614, -3.48), zoom_start=9, tiles='cartodbpositron', width=980, height=580)\n",
    "\n",
    "# I can add marker one by one on the map\n",
    "for i in range(0,len(rs)):\n",
    "   folium.Circle(\n",
    "      location=[rs.iloc[i]['lon'], rs.iloc[i]['lat']],\n",
    "      #popup=data.iloc[i]['name'],\n",
    "      radius = 100,\n",
    "      #radius=data.iloc[i]['value']*10000,\n",
    "      color='crimson',\n",
    "      fill=True,\n",
    "      fill_color='crimson'\n",
    "   ).add_to(m)\n",
    "\n",
    "#folium.RegularPolygonMarker(rs[lat, lon], popup='name', fill_color='blue', number_of_sides= 3, radius=pixels ).add_to(m)\n",
    "\n",
    "sw = rs[['lon', 'lat']].min().values.tolist()\n",
    "ne = rs[['lon', 'lat']].max().values.tolist()\n",
    "\n",
    "m.fit_bounds([sw, ne]) \n",
    "m"
   ]
  },
  {
   "cell_type": "code",
   "execution_count": 51,
   "metadata": {},
   "outputs": [
    {
     "data": {
      "text/html": [
       "<div style=\"width:100%;\"><div style=\"position:relative;width:100%;height:0;padding-bottom:60%;\"><span style=\"color:#565656\">Make this Notebook Trusted to load map: File -> Trust Notebook</span><iframe src=\"about:blank\" style=\"position:absolute;width:100%;height:100%;left:0;top:0;border:none !important;\" data-html=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 onload=\"this.contentDocument.open();this.contentDocument.write(atob(this.getAttribute('data-html')));this.contentDocument.close();\" allowfullscreen webkitallowfullscreen mozallowfullscreen></iframe></div></div>"
      ],
      "text/plain": [
       "<folium.folium.Map at 0x1ea5e03b548>"
      ]
     },
     "execution_count": 51,
     "metadata": {},
     "output_type": "execute_result"
    }
   ],
   "source": [
    "import folium\n",
    "# Build map \n",
    "m = folium.Map(location=(50.909614, -3.48), zoom_start=9, tiles='cartodbpositron', width=980, height=580)\n",
    "\n",
    "# I can add marker one by one on the map\n",
    "for i in range(0,len(rs)):\n",
    "   folium.CircleMarker(location=[rs.iloc[i]['lon'], rs.iloc[i]['lat']], color='crimson', fill=True,\n",
    "      fill_color='crimson', fillOpacity= 0.6, radius=10, weight=5).add_to(m)\n",
    "m"
   ]
  },
  {
   "cell_type": "code",
   "execution_count": null,
   "metadata": {},
   "outputs": [],
   "source": []
  }
 ],
 "metadata": {
  "kernelspec": {
   "display_name": "Python 3.7.4 64-bit",
   "language": "python",
   "name": "python37464bit127b38de58f54e978c5b450628d48763"
  },
  "language_info": {
   "codemirror_mode": {
    "name": "ipython",
    "version": 3
   },
   "file_extension": ".py",
   "mimetype": "text/x-python",
   "name": "python",
   "nbconvert_exporter": "python",
   "pygments_lexer": "ipython3",
   "version": "3.7.4"
  }
 },
 "nbformat": 4,
 "nbformat_minor": 2
}
