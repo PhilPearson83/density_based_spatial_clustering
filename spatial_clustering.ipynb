{
 "cells": [
  {
   "cell_type": "code",
   "execution_count": 1,
   "metadata": {},
   "outputs": [],
   "source": [
    "import pandas as pd\n",
    "import geopandas as gpd\n",
    "import numpy as np\n",
    "import matplotlib.pyplot as plt\n",
    "from ipyleaflet import *\n",
    "from ipywidgets import Layout\n",
    "import os\n",
    "from sklearn.cluster import DBSCAN\n",
    "from sklearn import metrics\n",
    "from geopy.distance import great_circle\n",
    "from shapely.geometry import MultiPoint\n",
    "import pyodbc\n",
    "from pyproj import Proj, transform\n",
    "\n",
    "%matplotlib inline\n",
    "%load_ext line_profiler"
   ]
  },
  {
   "cell_type": "code",
   "execution_count": 2,
   "metadata": {},
   "outputs": [],
   "source": [
    "#find working folder\n",
    "dir_path = os.getcwd()"
   ]
  },
  {
   "cell_type": "code",
   "execution_count": 3,
   "metadata": {},
   "outputs": [],
   "source": [
    "def gen_spatial_data():\n",
    "    sz = 13**3\n",
    "    df = pd.DataFrame(np.random.randint(240000,380000, (sz, 1)), columns=['EASTING'])\n",
    "    df['NORTHING'] = np.random.randint(35000, 130000, (sz, 1))\n",
    "    df['date'] = pd.date_range('2000-01-01', freq='1S', periods=len(df))\n",
    "    df['dt2'] = pd.date_range('1980-01-01', freq='999S', periods=len(df))\n",
    "    df['f1'] = np.random.rand(len(df))\n",
    "    df['f2'] = np.random.rand(len(df))\n",
    "    return df"
   ]
  },
  {
   "cell_type": "code",
   "execution_count": 4,
   "metadata": {},
   "outputs": [
    {
     "data": {
      "text/html": [
       "<div>\n",
       "<style scoped>\n",
       "    .dataframe tbody tr th:only-of-type {\n",
       "        vertical-align: middle;\n",
       "    }\n",
       "\n",
       "    .dataframe tbody tr th {\n",
       "        vertical-align: top;\n",
       "    }\n",
       "\n",
       "    .dataframe thead th {\n",
       "        text-align: right;\n",
       "    }\n",
       "</style>\n",
       "<table border=\"1\" class=\"dataframe\">\n",
       "  <thead>\n",
       "    <tr style=\"text-align: right;\">\n",
       "      <th></th>\n",
       "      <th>INCIDENT_NUMBER</th>\n",
       "      <th>CALL_TIME</th>\n",
       "      <th>FINANCIAL_YEAR</th>\n",
       "      <th>ERS_TYPE</th>\n",
       "      <th>EASTING</th>\n",
       "      <th>NORTHING</th>\n",
       "    </tr>\n",
       "  </thead>\n",
       "  <tbody>\n",
       "    <tr>\n",
       "      <th>0</th>\n",
       "      <td>HV017735-04092019</td>\n",
       "      <td>2019-09-04 10:50:05.140</td>\n",
       "      <td>2019/20</td>\n",
       "      <td>RTC</td>\n",
       "      <td>345869</td>\n",
       "      <td>110831</td>\n",
       "    </tr>\n",
       "    <tr>\n",
       "      <th>1</th>\n",
       "      <td>HV037231-23022019</td>\n",
       "      <td>2019-02-23 00:45:46.683</td>\n",
       "      <td>2018/19</td>\n",
       "      <td>DWELLING</td>\n",
       "      <td>246081</td>\n",
       "      <td>057495</td>\n",
       "    </tr>\n",
       "    <tr>\n",
       "      <th>2</th>\n",
       "      <td>HV037232-23022019</td>\n",
       "      <td>2019-02-23 00:45:42.793</td>\n",
       "      <td>2018/19</td>\n",
       "      <td>DWELLING</td>\n",
       "      <td>245967</td>\n",
       "      <td>057406</td>\n",
       "    </tr>\n",
       "    <tr>\n",
       "      <th>3</th>\n",
       "      <td>TV015277-18082018</td>\n",
       "      <td>2018-08-18 18:08:05.547</td>\n",
       "      <td>2018/19</td>\n",
       "      <td>DWELLING</td>\n",
       "      <td>344177</td>\n",
       "      <td>108819</td>\n",
       "    </tr>\n",
       "    <tr>\n",
       "      <th>4</th>\n",
       "      <td>TV026891-08012019</td>\n",
       "      <td>2019-01-08 19:14:10.067</td>\n",
       "      <td>2018/19</td>\n",
       "      <td>DWELLING</td>\n",
       "      <td>298425</td>\n",
       "      <td>096725</td>\n",
       "    </tr>\n",
       "    <tr>\n",
       "      <th>...</th>\n",
       "      <td>...</td>\n",
       "      <td>...</td>\n",
       "      <td>...</td>\n",
       "      <td>...</td>\n",
       "      <td>...</td>\n",
       "      <td>...</td>\n",
       "    </tr>\n",
       "    <tr>\n",
       "      <th>916</th>\n",
       "      <td>VV038607-14032020</td>\n",
       "      <td>2020-03-14 00:51:19.327</td>\n",
       "      <td>2019/20</td>\n",
       "      <td>DWELLING</td>\n",
       "      <td>273036</td>\n",
       "      <td>043890</td>\n",
       "    </tr>\n",
       "    <tr>\n",
       "      <th>917</th>\n",
       "      <td>VV038725-15032020</td>\n",
       "      <td>2020-03-15 19:24:35.283</td>\n",
       "      <td>2019/20</td>\n",
       "      <td>RTC</td>\n",
       "      <td>249835</td>\n",
       "      <td>136745</td>\n",
       "    </tr>\n",
       "    <tr>\n",
       "      <th>918</th>\n",
       "      <td>VV039962-29032020</td>\n",
       "      <td>2020-03-29 14:36:15.727</td>\n",
       "      <td>2019/20</td>\n",
       "      <td>DWELLING</td>\n",
       "      <td>282973</td>\n",
       "      <td>069159</td>\n",
       "    </tr>\n",
       "    <tr>\n",
       "      <th>919</th>\n",
       "      <td>VV040090-30032020</td>\n",
       "      <td>2020-03-30 12:24:30.917</td>\n",
       "      <td>2019/20</td>\n",
       "      <td>DWELLING</td>\n",
       "      <td>295493</td>\n",
       "      <td>112005</td>\n",
       "    </tr>\n",
       "    <tr>\n",
       "      <th>920</th>\n",
       "      <td>VV040248-31032020</td>\n",
       "      <td>2020-03-31 19:14:38.907</td>\n",
       "      <td>2019/20</td>\n",
       "      <td>DWELLING</td>\n",
       "      <td>341046</td>\n",
       "      <td>115225</td>\n",
       "    </tr>\n",
       "  </tbody>\n",
       "</table>\n",
       "<p>921 rows × 6 columns</p>\n",
       "</div>"
      ],
      "text/plain": [
       "       INCIDENT_NUMBER               CALL_TIME FINANCIAL_YEAR  ERS_TYPE  \\\n",
       "0    HV017735-04092019 2019-09-04 10:50:05.140        2019/20       RTC   \n",
       "1    HV037231-23022019 2019-02-23 00:45:46.683        2018/19  DWELLING   \n",
       "2    HV037232-23022019 2019-02-23 00:45:42.793        2018/19  DWELLING   \n",
       "3    TV015277-18082018 2018-08-18 18:08:05.547        2018/19  DWELLING   \n",
       "4    TV026891-08012019 2019-01-08 19:14:10.067        2018/19  DWELLING   \n",
       "..                 ...                     ...            ...       ...   \n",
       "916  VV038607-14032020 2020-03-14 00:51:19.327        2019/20  DWELLING   \n",
       "917  VV038725-15032020 2020-03-15 19:24:35.283        2019/20       RTC   \n",
       "918  VV039962-29032020 2020-03-29 14:36:15.727        2019/20  DWELLING   \n",
       "919  VV040090-30032020 2020-03-30 12:24:30.917        2019/20  DWELLING   \n",
       "920  VV040248-31032020 2020-03-31 19:14:38.907        2019/20  DWELLING   \n",
       "\n",
       "    EASTING NORTHING  \n",
       "0    345869   110831  \n",
       "1    246081   057495  \n",
       "2    245967   057406  \n",
       "3    344177   108819  \n",
       "4    298425   096725  \n",
       "..      ...      ...  \n",
       "916  273036   043890  \n",
       "917  249835   136745  \n",
       "918  282973   069159  \n",
       "919  295493   112005  \n",
       "920  341046   115225  \n",
       "\n",
       "[921 rows x 6 columns]"
      ]
     },
     "execution_count": 4,
     "metadata": {},
     "output_type": "execute_result"
    }
   ],
   "source": [
    "# connection to server and databse\n",
    "try:\n",
    "    conn = pyodbc.connect(\"Driver={SQL Server Native Client 11.0};\"\n",
    "                      \"Server=SQL1\\\\LIVE1;\"\n",
    "                      \"Database=CommonData;\"\n",
    "                      \"Trusted_Connection=yes;\",\n",
    "                       timeout=1)\n",
    "    # Read the sql file\n",
    "    query = open(dir_path + '/' + 'ers_failures.sql', 'r')\n",
    "    # read the sql query and connection and create a dataframe\n",
    "    df = pd.read_sql(query.read(), conn)\n",
    "except:\n",
    "    #print(\"Connetion to Database timed out\")\n",
    "    gen_spatial_data()\n",
    "df"
   ]
  },
  {
   "cell_type": "code",
   "execution_count": null,
   "metadata": {},
   "outputs": [],
   "source": [
    "%timeit df"
   ]
  },
  {
   "cell_type": "code",
   "execution_count": 5,
   "metadata": {
    "tags": []
   },
   "outputs": [
    {
     "name": "stdout",
     "output_type": "stream",
     "text": [
      "<class 'pandas.core.frame.DataFrame'>\n",
      "RangeIndex: 921 entries, 0 to 920\n",
      "Data columns (total 6 columns):\n",
      " #   Column           Non-Null Count  Dtype         \n",
      "---  ------           --------------  -----         \n",
      " 0   INCIDENT_NUMBER  921 non-null    object        \n",
      " 1   CALL_TIME        921 non-null    datetime64[ns]\n",
      " 2   FINANCIAL_YEAR   921 non-null    object        \n",
      " 3   ERS_TYPE         921 non-null    object        \n",
      " 4   EASTING          921 non-null    int64         \n",
      " 5   NORTHING         921 non-null    int64         \n",
      "dtypes: datetime64[ns](1), int64(2), object(3)\n",
      "memory usage: 43.3+ KB\n",
      "None\n"
     ]
    }
   ],
   "source": [
    "# convert x/y columns to number from text\n",
    "df['EASTING'] = df['EASTING'].apply(lambda x: int(x))\n",
    "df['NORTHING'] = df['NORTHING'].apply(lambda x: int(x))\n",
    "#df[[\"EASTING\", \"NORTHING\"]] = df[[\"EASTING\", \"NORTHING\"]].apply(pd.to_numeric)\n",
    "print(df.info())"
   ]
  },
  {
   "cell_type": "code",
   "execution_count": null,
   "metadata": {},
   "outputs": [],
   "source": [
    "v84 = Proj(proj=\"latlong\",towgs84=\"0,0,0\",ellps=\"WGS84\")\n",
    "v36 = Proj(proj=\"latlong\", k=0.9996012717, ellps=\"airy\", towgs84=\"446.448,-125.157,542.060,0.1502,0.2470,0.8421,-20.4894\")\n",
    "vgrid = Proj(init=\"world:bng\")\n",
    "\n",
    "#def dfENtoLL84(df):\n",
    "#    vlon36, vlat36 = vgrid(df[\"EASTING\"].values, df[\"NORTHING\"].values, inverse=True)\n",
    "#    result = transform(v36, v84, vlon36, vlat36)\n",
    "#    # Transform the output to a Dataframe\n",
    "#    latlong = pd.DataFrame(index=df.index)\n",
    "#    for i in result:\n",
    "#        latlong[\"lon\"] = result[0]\n",
    "#        latlong[\"lat\"] = result[1]\n",
    "#    return latlong\n",
    "\n",
    "def vectorized_convert(df):\n",
    "    vlon36, vlat36 = vgrid(df['EASTING'].values,df['NORTHING'].values,inverse=True)\n",
    "    converted = transform(v36, v84, vlon36, vlat36)\n",
    "    df['lat'] = converted[0]\n",
    "    df['lon'] = converted[1]\n",
    "    return df\n",
    "\n",
    "#df2 = pd.DataFrame({'NORTHING': [378778, 384732],'EASTING': [366746, 364758]})\n",
    "vec = vectorized_convert(df)\n",
    "print(vec)\n",
    "#vec.to_csv(\"dd.csv\", index=False)"
   ]
  },
  {
   "cell_type": "code",
   "execution_count": 8,
   "metadata": {},
   "outputs": [
    {
     "name": "stdout",
     "output_type": "stream",
     "text": [
      "       INCIDENT_NUMBER               CALL_TIME FINANCIAL_YEAR  ERS_TYPE  \\\n",
      "0    HV017735-04092019 2019-09-04 10:50:05.140        2019/20       RTC   \n",
      "1    HV037231-23022019 2019-02-23 00:45:46.683        2018/19  DWELLING   \n",
      "2    HV037232-23022019 2019-02-23 00:45:42.793        2018/19  DWELLING   \n",
      "3    TV015277-18082018 2018-08-18 18:08:05.547        2018/19  DWELLING   \n",
      "4    TV026891-08012019 2019-01-08 19:14:10.067        2018/19  DWELLING   \n",
      "..                 ...                     ...            ...       ...   \n",
      "916  VV038607-14032020 2020-03-14 00:51:19.327        2019/20  DWELLING   \n",
      "917  VV038725-15032020 2020-03-15 19:24:35.283        2019/20       RTC   \n",
      "918  VV039962-29032020 2020-03-29 14:36:15.727        2019/20  DWELLING   \n",
      "919  VV040090-30032020 2020-03-30 12:24:30.917        2019/20  DWELLING   \n",
      "920  VV040248-31032020 2020-03-31 19:14:38.907        2019/20  DWELLING   \n",
      "\n",
      "     EASTING  NORTHING       lat        lon  \n",
      "0     345869    110831 -2.771038  50.894410  \n",
      "1     246081     57495 -4.166972  50.397130  \n",
      "2     245967     57406 -4.168539  50.396300  \n",
      "3     344177    108819 -2.794785  50.876158  \n",
      "4     298425     96725 -3.441538  50.761198  \n",
      "..       ...       ...       ...        ...  \n",
      "916   273036     43890 -3.783349  50.281282  \n",
      "917   249835    136745 -4.146539  51.110273  \n",
      "918   282973     69159 -3.651820  50.510492  \n",
      "919   295493    112005 -3.487455  50.898036  \n",
      "920   341046    115225 -2.840318  50.933445  \n",
      "\n",
      "[921 rows x 8 columns]\n"
     ]
    }
   ],
   "source": [
    "from pyproj import Transformer\n",
    "\n",
    "def vectorized_convert(df):\n",
    "    transformer = Transformer.from_crs(\"epsg:27700\", \"epsg:4326\")\n",
    "    converted = transformer.transform(df['EASTING'].tolist(), df['NORTHING'].tolist())\n",
    "    #inProj, outProj = Proj('epsg:27700'), Proj('epsg:4326')\n",
    "    #converted = transform(inProj, outProj , df['EASTING'].tolist(), df['NORTHING'].tolist())\n",
    "    df['lat'] = converted[1]\n",
    "    df['lon'] = converted[0]\n",
    "    return df\n",
    "vec = vectorized_convert(df)\n",
    "print(vec)"
   ]
  },
  {
   "cell_type": "code",
   "execution_count": 9,
   "metadata": {},
   "outputs": [],
   "source": [
    "#%lprun -f vectorized_convert vectorized_convert(vec)"
   ]
  },
  {
   "cell_type": "code",
   "execution_count": 10,
   "metadata": {},
   "outputs": [],
   "source": [
    "coords = vec[['lat', 'lon']].values\n",
    "miles = 2\n",
    "conversion_factor = 0.62137119\n",
    "kilometers = miles / conversion_factor\n",
    "kms_per_radian = 6371.0088\n",
    "epsilon = kilometers / kms_per_radian\n",
    "db = DBSCAN(eps=epsilon, min_samples=12, metric='haversine', algorithm='ball_tree').fit(np.radians(coords))\n",
    "cluster_labels = db.labels_\n",
    "#print(cluster_labels)"
   ]
  },
  {
   "cell_type": "code",
   "execution_count": 11,
   "metadata": {},
   "outputs": [
    {
     "name": "stdout",
     "output_type": "stream",
     "text": [
      "Number of clusters: 7\n",
      "0    [[-2.945558441726794, 51.23744538894077], [-2....\n",
      "1    [[-3.6518203950564305, 50.51049233612191], [-3...\n",
      "2    [[-3.5161100671119274, 50.46373782748626], [-3...\n",
      "3    [[-3.6866836647381134, 50.43006440795513], [-3...\n",
      "4    [[-4.1669722748369775, 50.39712980254106], [-4...\n",
      "5    [[-4.042645153505853, 50.380537480849995], [-4...\n",
      "6    [[-3.5013258725719703, 50.72647567256655], [-3...\n",
      "dtype: object\n",
      "Silhouette Coefficient: -0.436\n"
     ]
    }
   ],
   "source": [
    "# calculate the number of clusters\n",
    "num_clusters = len(set(cluster_labels)) - (1 if -1 in cluster_labels else 0)\n",
    "print('Number of clusters: {}'.format(num_clusters))\n",
    "clusters = pd.Series([coords[cluster_labels == n] for n in range(num_clusters)])\n",
    "print(clusters)\n",
    "# identify core points\n",
    "core_points = np.zeros_like(cluster_labels, dtype = bool)\n",
    "core_points[db.core_sample_indices_] = True\n",
    "#print(core_points)\n",
    "print(\"Silhouette Coefficient: %0.3f\" % metrics.silhouette_score(coords, cluster_labels))"
   ]
  },
  {
   "cell_type": "code",
   "execution_count": 12,
   "metadata": {},
   "outputs": [],
   "source": [
    "def get_centermost_point(cluster):\n",
    "    centroid = (MultiPoint(cluster).centroid.x, MultiPoint(cluster).centroid.y)\n",
    "    centermost_point = min(cluster, key=lambda point: great_circle(point, centroid).m)\n",
    "    return tuple(centermost_point)\n",
    "centermost_points = clusters.map(get_centermost_point)\n",
    "#print(centermost_points)\n",
    "#centermost_points.to_csv(\"centre.csv\", index=False)\n",
    "lats, lons = zip(*centermost_points)\n",
    "rep_points = pd.DataFrame({'lat':lats, 'lon':lons})\n",
    "rs = rep_points\n",
    "#rs = rep_points.apply(lambda row: df[(df['lat']==row['lat']) &amp;&amp; (df['lon']==row['lon'])].iloc[0], axis=1)"
   ]
  },
  {
   "cell_type": "code",
   "execution_count": 13,
   "metadata": {},
   "outputs": [
    {
     "data": {
      "image/png": "[encoded data removed]",
      "text/plain": [
       "<Figure size 1296x720 with 1 Axes>"
      ]
     },
     "metadata": {
      "needs_background": "light"
     },
     "output_type": "display_data"
    }
   ],
   "source": [
    "fig, ax = plt.subplots(figsize=[18, 10])\n",
    "rs_scatter = ax.scatter(rs['lat'], rs['lon'], c='#99cc99', edgecolor='None', alpha=0.7, s=300)\n",
    "df_scatter = ax.scatter(df['lat'], df['lon'], c='k', alpha=0.9, s=3)\n",
    "ax.set_title('Full data set vs DBSCAN reduced set')\n",
    "ax.set_xlabel('Latitude')\n",
    "ax.set_ylabel('Longitude')\n",
    "ax.legend([df_scatter, rs_scatter], ['Full set', 'Reduced set'], loc='upper right')\n",
    "plt.show()"
   ]
  },
  {
   "cell_type": "code",
   "execution_count": 23,
   "metadata": {},
   "outputs": [
    {
     "name": "stderr",
     "output_type": "stream",
     "text": [
      "C:\\Users\\ppearson\\AppData\\Local\\Programs\\Python\\Python37\\lib\\site-packages\\IPython\\core\\display.py:701: UserWarning: Consider using IPython.display.IFrame instead\n",
      "  warnings.warn(\"Consider using IPython.display.IFrame instead\")\n"
     ]
    },
    {
     "data": {
      "text/html": [
       "<iframe src=\"data:text/html;base64,PGhlYWQ+CiAgICA8c2NyaXB0IHNyYz0iaHR0cHM6Ly9jZG5qcy5jbG91ZGZsYXJlLmNvbS9hamF4L2xpYnMvbGVhZmxldC8wLjcuMy9sZWFmbGV0LmpzIj48L3NjcmlwdD4KICAgIDxsaW5rIHJlbD0ic3R5bGVzaGVldCIgaHJlZj0iaHR0cHM6Ly9jZG5qcy5jbG91ZGZsYXJlLmNvbS9hamF4L2xpYnMvbGVhZmxldC8wLjcuMy9sZWFmbGV0LmNzcyIgLz4KICA8c3R5bGU+CiAgICAjbWFwMGE3MDUwYzg5YzdkNDlkOWI4NzI3MDI4ZTlhZDE1NWYgewogICAgICBoZWlnaHQ6MTAwJTsKICAgIH0KICA8L3N0eWxlPiAKPC9oZWFkPgo8Ym9keT4KICA8ZGl2IGlkPSJtYXAwYTcwNTBjODljN2Q0OWQ5Yjg3MjcwMjhlOWFkMTU1ZiI+PC9kaXY+CjxzY3JpcHQgdGV4dD0idGV4dC9qYXZhc2NyaXB0Ij4KdmFyIG1hcCA9IEwubWFwKCdtYXAwYTcwNTBjODljN2Q0OWQ5Yjg3MjcwMjhlOWFkMTU1ZicpOwpMLnRpbGVMYXllcigKICAiaHR0cDovL3tzfS50aWxlLm9wZW5zdHJlZXRtYXAub3JnL3t6fS97eH0ve3l9LnBuZyIsCiAge21heFpvb206MTksIGF0dHJpYnV0aW9uOiAnPGEgaHJlZj0iaHR0cHM6Ly9naXRodWIuY29tL2p3YXNzL21wbGxlYWZsZXQiPm1wbGxlYWZsZXQ8L2E+IHwgTWFwIGRhdGEgKGMpIDxhIGhyZWY9Imh0dHA6Ly9vcGVuc3RyZWV0bWFwLm9yZyI+T3BlblN0cmVldE1hcDwvYT4gY29udHJpYnV0b3JzJ30pLmFkZFRvKG1hcCk7CnZhciBnakRhdGEgPSB7InR5cGUiOiAiRmVhdHVyZUNvbGxlY3Rpb24iLCAiZmVhdHVyZXMiOiBbeyJ0eXBlIjogIkZlYXR1cmUiLCAiZ2VvbWV0cnkiOiB7InR5cGUiOiAiUG9pbnQiLCAiY29vcmRpbmF0ZXMiOiBbLTIuOTU2NTAwMjMxMjM1NTU4LCA1MS4yMzMyMDIwODc0Mzg5MDRdfSwgInByb3BlcnRpZXMiOiB7Imh0bWwiOiAiPHN2ZyB3aWR0aD1cIjI1cHhcIiBoZWlnaHQ9XCIyNXB4XCIgdmlld0JveD1cIi0xMi41IC0xMi41IDI1LjAgMjUuMFwiIHhtbG5zPVwiaHR0cDovL3d3dy53My5vcmcvMjAwMC9zdmdcIiB2ZXJzaW9uPVwiMS4xXCI+ICA8cGF0aCBkPVwiTSAwLjAgLTEwLjAgQyAyLjY1MjAzMSAtMTAuMCA1LjE5NTc5ODcwNzg0ODUzNCAtOC45NDYzMzY5MTU4ODI0MTggNy4wNzEwNjc4MTE4NjU0NzU1IC03LjA3MTA2NzgxMTg2NTQ3NTUgQyA4Ljk0NjMzNjkxNTg4MjQxOCAtNS4xOTU3OTg3MDc4NDg1MzQgMTAuMCAtMi42NTIwMzEgMTAuMCAtMC4wIEMgMTAuMCAyLjY1MjAzMSA4Ljk0NjMzNjkxNTg4MjQxOCA1LjE5NTc5ODcwNzg0ODUzNCA3LjA3MTA2NzgxMTg2NTQ3NTUgNy4wNzEwNjc4MTE4NjU0NzU1IEMgNS4xOTU3OTg3MDc4NDg1MzQgOC45NDYzMzY5MTU4ODI0MTggMi42NTIwMzEgMTAuMCAwLjAgMTAuMCBDIC0yLjY1MjAzMSAxMC4wIC01LjE5NTc5ODcwNzg0ODUzNCA4Ljk0NjMzNjkxNTg4MjQxOCAtNy4wNzEwNjc4MTE4NjU0NzU1IDcuMDcxMDY3ODExODY1NDc1NSBDIC04Ljk0NjMzNjkxNTg4MjQxOCA1LjE5NTc5ODcwNzg0ODUzNCAtMTAuMCAyLjY1MjAzMSAtMTAuMCAtMC4wIEMgLTEwLjAgLTIuNjUyMDMxIC04Ljk0NjMzNjkxNTg4MjQxOCAtNS4xOTU3OTg3MDc4NDg1MzQgLTcuMDcxMDY3ODExODY1NDc1NSAtNy4wNzEwNjc4MTE4NjU0NzU1IEMgLTUuMTk1Nzk4NzA3ODQ4NTM0IC04Ljk0NjMzNjkxNTg4MjQxOCAtMi42NTIwMzEgLTEwLjAgMC4wIC0xMC4wIFpcIiBzdHJva2U9XCIjRkYwMDAwXCIgc3Ryb2tlLXdpZHRoPVwiMS4wXCIgc3Ryb2tlLW9wYWNpdHk9XCIwLjVcIiBmaWxsPVwiI0ZGMDAwMFwiIGZpbGwtb3BhY2l0eT1cIjAuNVwiIC8+PC9zdmc+IiwgImFuY2hvcl94IjogMTIuNSwgImFuY2hvcl95IjogMTIuNX19LCB7InR5cGUiOiAiRmVhdHVyZSIsICJnZW9tZXRyeSI6IHsidHlwZSI6ICJQb2ludCIsICJjb29yZGluYXRlcyI6IFstMy42NTE4MjAzOTUwNTY0MzA1LCA1MC41MTA0OTIzMzYxMjE5MV19LCAicHJvcGVydGllcyI6IHsiaHRtbCI6ICI8c3ZnIHdpZHRoPVwiMjVweFwiIGhlaWdodD1cIjI1cHhcIiB2aWV3Qm94PVwiLTEyLjUgLTEyLjUgMjUuMCAyNS4wXCIgeG1sbnM9XCJodHRwOi8vd3d3LnczLm9yZy8yMDAwL3N2Z1wiIHZlcnNpb249XCIxLjFcIj4gIDxwYXRoIGQ9XCJNIDAuMCAtMTAuMCBDIDIuNjUyMDMxIC0xMC4wIDUuMTk1Nzk4NzA3ODQ4NTM0IC04Ljk0NjMzNjkxNTg4MjQxOCA3LjA3MTA2NzgxMTg2NTQ3NTUgLTcuMDcxMDY3ODExODY1NDc1NSBDIDguOTQ2MzM2OTE1ODgyNDE4IC01LjE5NTc5ODcwNzg0ODUzNCAxMC4wIC0yLjY1MjAzMSAxMC4wIC0wLjAgQyAxMC4wIDIuNjUyMDMxIDguOTQ2MzM2OTE1ODgyNDE4IDUuMTk1Nzk4NzA3ODQ4NTM0IDcuMDcxMDY3ODExODY1NDc1NSA3LjA3MTA2NzgxMTg2NTQ3NTUgQyA1LjE5NTc5ODcwNzg0ODUzNCA4Ljk0NjMzNjkxNTg4MjQxOCAyLjY1MjAzMSAxMC4wIDAuMCAxMC4wIEMgLTIuNjUyMDMxIDEwLjAgLTUuMTk1Nzk4NzA3ODQ4NTM0IDguOTQ2MzM2OTE1ODgyNDE4IC03LjA3MTA2NzgxMTg2NTQ3NTUgNy4wNzEwNjc4MTE4NjU0NzU1IEMgLTguOTQ2MzM2OTE1ODgyNDE4IDUuMTk1Nzk4NzA3ODQ4NTM0IC0xMC4wIDIuNjUyMDMxIC0xMC4wIC0wLjAgQyAtMTAuMCAtMi42NTIwMzEgLTguOTQ2MzM2OTE1ODgyNDE4IC01LjE5NTc5ODcwNzg0ODUzNCAtNy4wNzEwNjc4MTE4NjU0NzU1IC03LjA3MTA2NzgxMTg2NTQ3NTUgQyAtNS4xOTU3OTg3MDc4NDg1MzQgLTguOTQ2MzM2OTE1ODgyNDE4IC0yLjY1MjAzMSAtMTAuMCAwLjAgLTEwLjAgWlwiIHN0cm9rZT1cIiNGRjAwMDBcIiBzdHJva2Utd2lkdGg9XCIxLjBcIiBzdHJva2Utb3BhY2l0eT1cIjAuNVwiIGZpbGw9XCIjRkYwMDAwXCIgZmlsbC1vcGFjaXR5PVwiMC41XCIgLz48L3N2Zz4iLCAiYW5jaG9yX3giOiAxMi41LCAiYW5jaG9yX3kiOiAxMi41fX0sIHsidHlwZSI6ICJGZWF0dXJlIiwgImdlb21ldHJ5IjogeyJ0eXBlIjogIlBvaW50IiwgImNvb3JkaW5hdGVzIjogWy0zLjUxNzU5NzU5NDE4NzI5NCwgNTAuNDcxOTExNjU2NzY4NDddfSwgInByb3BlcnRpZXMiOiB7Imh0bWwiOiAiPHN2ZyB3aWR0aD1cIjI1cHhcIiBoZWlnaHQ9XCIyNXB4XCIgdmlld0JveD1cIi0xMi41IC0xMi41IDI1LjAgMjUuMFwiIHhtbG5zPVwiaHR0cDovL3d3dy53My5vcmcvMjAwMC9zdmdcIiB2ZXJzaW9uPVwiMS4xXCI+ICA8cGF0aCBkPVwiTSAwLjAgLTEwLjAgQyAyLjY1MjAzMSAtMTAuMCA1LjE5NTc5ODcwNzg0ODUzNCAtOC45NDYzMzY5MTU4ODI0MTggNy4wNzEwNjc4MTE4NjU0NzU1IC03LjA3MTA2NzgxMTg2NTQ3NTUgQyA4Ljk0NjMzNjkxNTg4MjQxOCAtNS4xOTU3OTg3MDc4NDg1MzQgMTAuMCAtMi42NTIwMzEgMTAuMCAtMC4wIEMgMTAuMCAyLjY1MjAzMSA4Ljk0NjMzNjkxNTg4MjQxOCA1LjE5NTc5ODcwNzg0ODUzNCA3LjA3MTA2NzgxMTg2NTQ3NTUgNy4wNzEwNjc4MTE4NjU0NzU1IEMgNS4xOTU3OTg3MDc4NDg1MzQgOC45NDYzMzY5MTU4ODI0MTggMi42NTIwMzEgMTAuMCAwLjAgMTAuMCBDIC0yLjY1MjAzMSAxMC4wIC01LjE5NTc5ODcwNzg0ODUzNCA4Ljk0NjMzNjkxNTg4MjQxOCAtNy4wNzEwNjc4MTE4NjU0NzU1IDcuMDcxMDY3ODExODY1NDc1NSBDIC04Ljk0NjMzNjkxNTg4MjQxOCA1LjE5NTc5ODcwNzg0ODUzNCAtMTAuMCAyLjY1MjAzMSAtMTAuMCAtMC4wIEMgLTEwLjAgLTIuNjUyMDMxIC04Ljk0NjMzNjkxNTg4MjQxOCAtNS4xOTU3OTg3MDc4NDg1MzQgLTcuMDcxMDY3ODExODY1NDc1NSAtNy4wNzEwNjc4MTE4NjU0NzU1IEMgLTUuMTk1Nzk4NzA3ODQ4NTM0IC04Ljk0NjMzNjkxNTg4MjQxOCAtMi42NTIwMzEgLTEwLjAgMC4wIC0xMC4wIFpcIiBzdHJva2U9XCIjRkYwMDAwXCIgc3Ryb2tlLXdpZHRoPVwiMS4wXCIgc3Ryb2tlLW9wYWNpdHk9XCIwLjVcIiBmaWxsPVwiI0ZGMDAwMFwiIGZpbGwtb3BhY2l0eT1cIjAuNVwiIC8+PC9zdmc+IiwgImFuY2hvcl94IjogMTIuNSwgImFuY2hvcl95IjogMTIuNX19LCB7InR5cGUiOiAiRmVhdHVyZSIsICJnZW9tZXRyeSI6IHsidHlwZSI6ICJQb2ludCIsICJjb29yZGluYXRlcyI6IFstMy43MDk5MTAyMDA0MzM3MzcsIDUwLjQzNDIwNDIxODY2NzQ0Nl19LCAicHJvcGVydGllcyI6IHsiaHRtbCI6ICI8c3ZnIHdpZHRoPVwiMjVweFwiIGhlaWdodD1cIjI1cHhcIiB2aWV3Qm94PVwiLTEyLjUgLTEyLjUgMjUuMCAyNS4wXCIgeG1sbnM9XCJodHRwOi8vd3d3LnczLm9yZy8yMDAwL3N2Z1wiIHZlcnNpb249XCIxLjFcIj4gIDxwYXRoIGQ9XCJNIDAuMCAtMTAuMCBDIDIuNjUyMDMxIC0xMC4wIDUuMTk1Nzk4NzA3ODQ4NTM0IC04Ljk0NjMzNjkxNTg4MjQxOCA3LjA3MTA2NzgxMTg2NTQ3NTUgLTcuMDcxMDY3ODExODY1NDc1NSBDIDguOTQ2MzM2OTE1ODgyNDE4IC01LjE5NTc5ODcwNzg0ODUzNCAxMC4wIC0yLjY1MjAzMSAxMC4wIC0wLjAgQyAxMC4wIDIuNjUyMDMxIDguOTQ2MzM2OTE1ODgyNDE4IDUuMTk1Nzk4NzA3ODQ4NTM0IDcuMDcxMDY3ODExODY1NDc1NSA3LjA3MTA2NzgxMTg2NTQ3NTUgQyA1LjE5NTc5ODcwNzg0ODUzNCA4Ljk0NjMzNjkxNTg4MjQxOCAyLjY1MjAzMSAxMC4wIDAuMCAxMC4wIEMgLTIuNjUyMDMxIDEwLjAgLTUuMTk1Nzk4NzA3ODQ4NTM0IDguOTQ2MzM2OTE1ODgyNDE4IC03LjA3MTA2NzgxMTg2NTQ3NTUgNy4wNzEwNjc4MTE4NjU0NzU1IEMgLTguOTQ2MzM2OTE1ODgyNDE4IDUuMTk1Nzk4NzA3ODQ4NTM0IC0xMC4wIDIuNjUyMDMxIC0xMC4wIC0wLjAgQyAtMTAuMCAtMi42NTIwMzEgLTguOTQ2MzM2OTE1ODgyNDE4IC01LjE5NTc5ODcwNzg0ODUzNCAtNy4wNzEwNjc4MTE4NjU0NzU1IC03LjA3MTA2NzgxMTg2NTQ3NTUgQyAtNS4xOTU3OTg3MDc4NDg1MzQgLTguOTQ2MzM2OTE1ODgyNDE4IC0yLjY1MjAzMSAtMTAuMCAwLjAgLTEwLjAgWlwiIHN0cm9rZT1cIiNGRjAwMDBcIiBzdHJva2Utd2lkdGg9XCIxLjBcIiBzdHJva2Utb3BhY2l0eT1cIjAuNVwiIGZpbGw9XCIjRkYwMDAwXCIgZmlsbC1vcGFjaXR5PVwiMC41XCIgLz48L3N2Zz4iLCAiYW5jaG9yX3giOiAxMi41LCAiYW5jaG9yX3kiOiAxMi41fX0sIHsidHlwZSI6ICJGZWF0dXJlIiwgImdlb21ldHJ5IjogeyJ0eXBlIjogIlBvaW50IiwgImNvb3JkaW5hdGVzIjogWy00LjE2OTk1MDE4MTA5NTc0NiwgNTAuMzg1MzA5NjA4MDczMzg1XX0sICJwcm9wZXJ0aWVzIjogeyJodG1sIjogIjxzdmcgd2lkdGg9XCIyNXB4XCIgaGVpZ2h0PVwiMjVweFwiIHZpZXdCb3g9XCItMTIuNSAtMTIuNSAyNS4wIDI1LjBcIiB4bWxucz1cImh0dHA6Ly93d3cudzMub3JnLzIwMDAvc3ZnXCIgdmVyc2lvbj1cIjEuMVwiPiAgPHBhdGggZD1cIk0gMC4wIC0xMC4wIEMgMi42NTIwMzEgLTEwLjAgNS4xOTU3OTg3MDc4NDg1MzQgLTguOTQ2MzM2OTE1ODgyNDE4IDcuMDcxMDY3ODExODY1NDc1NSAtNy4wNzEwNjc4MTE4NjU0NzU1IEMgOC45NDYzMzY5MTU4ODI0MTggLTUuMTk1Nzk4NzA3ODQ4NTM0IDEwLjAgLTIuNjUyMDMxIDEwLjAgLTAuMCBDIDEwLjAgMi42NTIwMzEgOC45NDYzMzY5MTU4ODI0MTggNS4xOTU3OTg3MDc4NDg1MzQgNy4wNzEwNjc4MTE4NjU0NzU1IDcuMDcxMDY3ODExODY1NDc1NSBDIDUuMTk1Nzk4NzA3ODQ4NTM0IDguOTQ2MzM2OTE1ODgyNDE4IDIuNjUyMDMxIDEwLjAgMC4wIDEwLjAgQyAtMi42NTIwMzEgMTAuMCAtNS4xOTU3OTg3MDc4NDg1MzQgOC45NDYzMzY5MTU4ODI0MTggLTcuMDcxMDY3ODExODY1NDc1NSA3LjA3MTA2NzgxMTg2NTQ3NTUgQyAtOC45NDYzMzY5MTU4ODI0MTggNS4xOTU3OTg3MDc4NDg1MzQgLTEwLjAgMi42NTIwMzEgLTEwLjAgLTAuMCBDIC0xMC4wIC0yLjY1MjAzMSAtOC45NDYzMzY5MTU4ODI0MTggLTUuMTk1Nzk4NzA3ODQ4NTM0IC03LjA3MTA2NzgxMTg2NTQ3NTUgLTcuMDcxMDY3ODExODY1NDc1NSBDIC01LjE5NTc5ODcwNzg0ODUzNCAtOC45NDYzMzY5MTU4ODI0MTggLTIuNjUyMDMxIC0xMC4wIDAuMCAtMTAuMCBaXCIgc3Ryb2tlPVwiI0ZGMDAwMFwiIHN0cm9rZS13aWR0aD1cIjEuMFwiIHN0cm9rZS1vcGFjaXR5PVwiMC41XCIgZmlsbD1cIiNGRjAwMDBcIiBmaWxsLW9wYWNpdHk9XCIwLjVcIiAvPjwvc3ZnPiIsICJhbmNob3JfeCI6IDEyLjUsICJhbmNob3JfeSI6IDEyLjV9fSwgeyJ0eXBlIjogIkZlYXR1cmUiLCAiZ2VvbWV0cnkiOiB7InR5cGUiOiAiUG9pbnQiLCAiY29vcmRpbmF0ZXMiOiBbLTQuMDU2MTIxMjY1ODk4ODk5LCA1MC4zODU0MzU2NTk2MDc3M119LCAicHJvcGVydGllcyI6IHsiaHRtbCI6ICI8c3ZnIHdpZHRoPVwiMjVweFwiIGhlaWdodD1cIjI1cHhcIiB2aWV3Qm94PVwiLTEyLjUgLTEyLjUgMjUuMCAyNS4wXCIgeG1sbnM9XCJodHRwOi8vd3d3LnczLm9yZy8yMDAwL3N2Z1wiIHZlcnNpb249XCIxLjFcIj4gIDxwYXRoIGQ9XCJNIDAuMCAtMTAuMCBDIDIuNjUyMDMxIC0xMC4wIDUuMTk1Nzk4NzA3ODQ4NTM0IC04Ljk0NjMzNjkxNTg4MjQxOCA3LjA3MTA2NzgxMTg2NTQ3NTUgLTcuMDcxMDY3ODExODY1NDc1NSBDIDguOTQ2MzM2OTE1ODgyNDE4IC01LjE5NTc5ODcwNzg0ODUzNCAxMC4wIC0yLjY1MjAzMSAxMC4wIC0wLjAgQyAxMC4wIDIuNjUyMDMxIDguOTQ2MzM2OTE1ODgyNDE4IDUuMTk1Nzk4NzA3ODQ4NTM0IDcuMDcxMDY3ODExODY1NDc1NSA3LjA3MTA2NzgxMTg2NTQ3NTUgQyA1LjE5NTc5ODcwNzg0ODUzNCA4Ljk0NjMzNjkxNTg4MjQxOCAyLjY1MjAzMSAxMC4wIDAuMCAxMC4wIEMgLTIuNjUyMDMxIDEwLjAgLTUuMTk1Nzk4NzA3ODQ4NTM0IDguOTQ2MzM2OTE1ODgyNDE4IC03LjA3MTA2NzgxMTg2NTQ3NTUgNy4wNzEwNjc4MTE4NjU0NzU1IEMgLTguOTQ2MzM2OTE1ODgyNDE4IDUuMTk1Nzk4NzA3ODQ4NTM0IC0xMC4wIDIuNjUyMDMxIC0xMC4wIC0wLjAgQyAtMTAuMCAtMi42NTIwMzEgLTguOTQ2MzM2OTE1ODgyNDE4IC01LjE5NTc5ODcwNzg0ODUzNCAtNy4wNzEwNjc4MTE4NjU0NzU1IC03LjA3MTA2NzgxMTg2NTQ3NTUgQyAtNS4xOTU3OTg3MDc4NDg1MzQgLTguOTQ2MzM2OTE1ODgyNDE4IC0yLjY1MjAzMSAtMTAuMCAwLjAgLTEwLjAgWlwiIHN0cm9rZT1cIiNGRjAwMDBcIiBzdHJva2Utd2lkdGg9XCIxLjBcIiBzdHJva2Utb3BhY2l0eT1cIjAuNVwiIGZpbGw9XCIjRkYwMDAwXCIgZmlsbC1vcGFjaXR5PVwiMC41XCIgLz48L3N2Zz4iLCAiYW5jaG9yX3giOiAxMi41LCAiYW5jaG9yX3kiOiAxMi41fX0sIHsidHlwZSI6ICJGZWF0dXJlIiwgImdlb21ldHJ5IjogeyJ0eXBlIjogIlBvaW50IiwgImNvb3JkaW5hdGVzIjogWy0zLjQ3NTQzNTYwMjI2NTIwNTMsIDUwLjczODk2NTEzNzA4MTk0XX0sICJwcm9wZXJ0aWVzIjogeyJodG1sIjogIjxzdmcgd2lkdGg9XCIyNXB4XCIgaGVpZ2h0PVwiMjVweFwiIHZpZXdCb3g9XCItMTIuNSAtMTIuNSAyNS4wIDI1LjBcIiB4bWxucz1cImh0dHA6Ly93d3cudzMub3JnLzIwMDAvc3ZnXCIgdmVyc2lvbj1cIjEuMVwiPiAgPHBhdGggZD1cIk0gMC4wIC0xMC4wIEMgMi42NTIwMzEgLTEwLjAgNS4xOTU3OTg3MDc4NDg1MzQgLTguOTQ2MzM2OTE1ODgyNDE4IDcuMDcxMDY3ODExODY1NDc1NSAtNy4wNzEwNjc4MTE4NjU0NzU1IEMgOC45NDYzMzY5MTU4ODI0MTggLTUuMTk1Nzk4NzA3ODQ4NTM0IDEwLjAgLTIuNjUyMDMxIDEwLjAgLTAuMCBDIDEwLjAgMi42NTIwMzEgOC45NDYzMzY5MTU4ODI0MTggNS4xOTU3OTg3MDc4NDg1MzQgNy4wNzEwNjc4MTE4NjU0NzU1IDcuMDcxMDY3ODExODY1NDc1NSBDIDUuMTk1Nzk4NzA3ODQ4NTM0IDguOTQ2MzM2OTE1ODgyNDE4IDIuNjUyMDMxIDEwLjAgMC4wIDEwLjAgQyAtMi42NTIwMzEgMTAuMCAtNS4xOTU3OTg3MDc4NDg1MzQgOC45NDYzMzY5MTU4ODI0MTggLTcuMDcxMDY3ODExODY1NDc1NSA3LjA3MTA2NzgxMTg2NTQ3NTUgQyAtOC45NDYzMzY5MTU4ODI0MTggNS4xOTU3OTg3MDc4NDg1MzQgLTEwLjAgMi42NTIwMzEgLTEwLjAgLTAuMCBDIC0xMC4wIC0yLjY1MjAzMSAtOC45NDYzMzY5MTU4ODI0MTggLTUuMTk1Nzk4NzA3ODQ4NTM0IC03LjA3MTA2NzgxMTg2NTQ3NTUgLTcuMDcxMDY3ODExODY1NDc1NSBDIC01LjE5NTc5ODcwNzg0ODUzNCAtOC45NDYzMzY5MTU4ODI0MTggLTIuNjUyMDMxIC0xMC4wIDAuMCAtMTAuMCBaXCIgc3Ryb2tlPVwiI0ZGMDAwMFwiIHN0cm9rZS13aWR0aD1cIjEuMFwiIHN0cm9rZS1vcGFjaXR5PVwiMC41XCIgZmlsbD1cIiNGRjAwMDBcIiBmaWxsLW9wYWNpdHk9XCIwLjVcIiAvPjwvc3ZnPiIsICJhbmNob3JfeCI6IDEyLjUsICJhbmNob3JfeSI6IDEyLjV9fV19OwoKaWYgKGdqRGF0YS5mZWF0dXJlcy5sZW5ndGggIT0gMCkgewogIHZhciBnaiA9IEwuZ2VvSnNvbihnakRhdGEsIHsKICAgIHN0eWxlOiBmdW5jdGlvbiAoZmVhdHVyZSkgewogICAgICByZXR1cm4gZmVhdHVyZS5wcm9wZXJ0aWVzOwogICAgfSwKICAgIHBvaW50VG9MYXllcjogZnVuY3Rpb24gKGZlYXR1cmUsIGxhdGxuZykgewogICAgICB2YXIgaWNvbiA9IEwuZGl2SWNvbih7J2h0bWwnOiBmZWF0dXJlLnByb3BlcnRpZXMuaHRtbCwgCiAgICAgICAgaWNvbkFuY2hvcjogW2ZlYXR1cmUucHJvcGVydGllcy5hbmNob3JfeCwgCiAgICAgICAgICAgICAgICAgICAgIGZlYXR1cmUucHJvcGVydGllcy5hbmNob3JfeV0sIAogICAgICAgICAgY2xhc3NOYW1lOiAnZW1wdHknfSk7ICAvLyBXaGF0IGNhbiBJIGRvIGFib3V0IGVtcHR5PwogICAgICByZXR1cm4gTC5tYXJrZXIobGF0bG5nLCB7aWNvbjogaWNvbn0pOwogICAgfQogIH0pOwogIGdqLmFkZFRvKG1hcCk7CiAgCiAgbWFwLmZpdEJvdW5kcyhnai5nZXRCb3VuZHMoKSk7Cn0gZWxzZSB7CiAgbWFwLnNldFZpZXcoWzAsIDBdLCAxKTsKfQo8L3NjcmlwdD4KPC9ib2R5Pg==\" width=\"100%\" height=\"480\"></iframe>"
      ],
      "text/plain": [
       "<IPython.core.display.HTML object>"
      ]
     },
     "execution_count": 23,
     "metadata": {},
     "output_type": "execute_result"
    }
   ],
   "source": [
    "## Maps using mplleaflet\n",
    "import mplleaflet as mpl\n",
    "## make the figure\n",
    "fig = plt.figure(figsize=(8,8))\n",
    "ax = fig.add_subplot(111)\n",
    "## plot ride data\n",
    "plt.plot(rs['lat'], rs['lon'], 'or', alpha = .5, markersize=20)\n",
    "## display the Leaflet\n",
    "#mpl.show()     # opens in a new interactive tab\n",
    "mpl.display()  # shows interactive map inline in Jupyter but cannot handle large data sets"
   ]
  },
  {
   "cell_type": "code",
   "execution_count": 15,
   "metadata": {},
   "outputs": [],
   "source": [
    "gdf = gpd.GeoDataFrame(rs, geometry=gpd.points_from_xy(rs['lat'], rs['lon']),crs=\"EPSG:4326\")\n",
    "\n",
    "geo_data = GeoData(geo_dataframe = gdf,\n",
    "                   style={'color': 'black', 'fillColor': '#3366cc', 'opacity':0.05, 'weight':1.9, 'dashArray':'2', 'fillOpacity':0.6},\n",
    "                   hover_style={'fillColor': 'red' , 'fillOpacity': 0.2},\n",
    "                   name = 'Countries')"
   ]
  },
  {
   "cell_type": "code",
   "execution_count": 16,
   "metadata": {},
   "outputs": [
    {
     "data": {
      "application/vnd.jupyter.widget-view+json": {
       "model_id": "0c5ee2eb44bb49b99fe80add98c6b3ea",
       "version_major": 2,
       "version_minor": 0
      },
      "text/plain": [
       "Map(center=[50.909614, -3.48], controls=(ZoomControl(options=['position', 'zoom_in_text', 'zoom_in_title', 'zo…"
      ]
     },
     "metadata": {},
     "output_type": "display_data"
    }
   ],
   "source": [
    "defaultlayout=Layout(width='960px', height='540px')\n",
    "center=[50.909614, -3.48]\n",
    "zoom=8\n",
    "m=Map(center=center, zoom=zoom, basemap=basemaps.CartoDB.Positron, layout=defaultlayout)\n",
    "m.add_layer(geo_data)\n",
    "m.add_control(LayersControl())\n",
    "m"
   ]
  },
  {
   "cell_type": "code",
   "execution_count": 26,
   "metadata": {
    "scrolled": false
   },
   "outputs": [
    {
     "data": {
      "text/html": [
       "<div style=\"width:100%;\"><div style=\"position:relative;width:100%;height:0;padding-bottom:60%;\"><span style=\"color:#565656\">Make this Notebook Trusted to load map: File -> Trust Notebook</span><iframe src=\"about:blank\" style=\"position:absolute;width:100%;height:100%;left:0;top:0;border:none !important;\" data-html=PCFET0NUWVBFIGh0bWw+CjxoZWFkPiAgICAKICAgIDxtZXRhIGh0dHAtZXF1aXY9ImNvbnRlbnQtdHlwZSIgY29udGVudD0idGV4dC9odG1sOyBjaGFyc2V0PVVURi04IiAvPgogICAgCiAgICAgICAgPHNjcmlwdD4KICAgICAgICAgICAgTF9OT19UT1VDSCA9IGZhbHNlOwogICAgICAgICAgICBMX0RJU0FCTEVfM0QgPSBmYWxzZTsKICAgICAgICA8L3NjcmlwdD4KICAgIAogICAgPHNjcmlwdCBzcmM9Imh0dHBzOi8vY2RuLmpzZGVsaXZyLm5ldC9ucG0vbGVhZmxldEAxLjYuMC9kaXN0L2xlYWZsZXQuanMiPjwvc2NyaXB0PgogICAgPHNjcmlwdCBzcmM9Imh0dHBzOi8vY29kZS5qcXVlcnkuY29tL2pxdWVyeS0xLjEyLjQubWluLmpzIj48L3NjcmlwdD4KICAgIDxzY3JpcHQgc3JjPSJodHRwczovL21heGNkbi5ib290c3RyYXBjZG4uY29tL2Jvb3RzdHJhcC8zLjIuMC9qcy9ib290c3RyYXAubWluLmpzIj48L3NjcmlwdD4KICAgIDxzY3JpcHQgc3JjPSJodHRwczovL2NkbmpzLmNsb3VkZmxhcmUuY29tL2FqYXgvbGlicy9MZWFmbGV0LmF3ZXNvbWUtbWFya2Vycy8yLjAuMi9sZWFmbGV0LmF3ZXNvbWUtbWFya2Vycy5qcyI+PC9zY3JpcHQ+CiAgICA8bGluayByZWw9InN0eWxlc2hlZXQiIGhyZWY9Imh0dHBzOi8vY2RuLmpzZGVsaXZyLm5ldC9ucG0vbGVhZmxldEAxLjYuMC9kaXN0L2xlYWZsZXQuY3NzIi8+CiAgICA8bGluayByZWw9InN0eWxlc2hlZXQiIGhyZWY9Imh0dHBzOi8vbWF4Y2RuLmJvb3RzdHJhcGNkbi5jb20vYm9vdHN0cmFwLzMuMi4wL2Nzcy9ib290c3RyYXAubWluLmNzcyIvPgogICAgPGxpbmsgcmVsPSJzdHlsZXNoZWV0IiBocmVmPSJodHRwczovL21heGNkbi5ib290c3RyYXBjZG4uY29tL2Jvb3RzdHJhcC8zLjIuMC9jc3MvYm9vdHN0cmFwLXRoZW1lLm1pbi5jc3MiLz4KICAgIDxsaW5rIHJlbD0ic3R5bGVzaGVldCIgaHJlZj0iaHR0cHM6Ly9tYXhjZG4uYm9vdHN0cmFwY2RuLmNvbS9mb250LWF3ZXNvbWUvNC42LjMvY3NzL2ZvbnQtYXdlc29tZS5taW4uY3NzIi8+CiAgICA8bGluayByZWw9InN0eWxlc2hlZXQiIGhyZWY9Imh0dHBzOi8vY2RuanMuY2xvdWRmbGFyZS5jb20vYWpheC9saWJzL0xlYWZsZXQuYXdlc29tZS1tYXJrZXJzLzIuMC4yL2xlYWZsZXQuYXdlc29tZS1tYXJrZXJzLmNzcyIvPgogICAgPGxpbmsgcmVsPSJzdHlsZXNoZWV0IiBocmVmPSJodHRwczovL3Jhd2Nkbi5naXRoYWNrLmNvbS9weXRob24tdmlzdWFsaXphdGlvbi9mb2xpdW0vbWFzdGVyL2ZvbGl1bS90ZW1wbGF0ZXMvbGVhZmxldC5hd2Vzb21lLnJvdGF0ZS5jc3MiLz4KICAgIDxzdHlsZT5odG1sLCBib2R5IHt3aWR0aDogMTAwJTtoZWlnaHQ6IDEwMCU7bWFyZ2luOiAwO3BhZGRpbmc6IDA7fTwvc3R5bGU+CiAgICA8c3R5bGU+I21hcCB7cG9zaXRpb246YWJzb2x1dGU7dG9wOjA7Ym90dG9tOjA7cmlnaHQ6MDtsZWZ0OjA7fTwvc3R5bGU+CiAgICAKICAgICAgICAgICAgPG1ldGEgbmFtZT0idmlld3BvcnQiIGNvbnRlbnQ9IndpZHRoPWRldmljZS13aWR0aCwKICAgICAgICAgICAgICAgIGluaXRpYWwtc2NhbGU9MS4wLCBtYXhpbXVtLXNjYWxlPTEuMCwgdXNlci1zY2FsYWJsZT1ubyIgLz4KICAgICAgICAgICAgPHN0eWxlPgogICAgICAgICAgICAgICAgI21hcF9lYTE2ZDk4ZDdlODI0NzNmYjc0ZWY4MzVlYmZjNjk3ZiB7CiAgICAgICAgICAgICAgICAgICAgcG9zaXRpb246IHJlbGF0aXZlOwogICAgICAgICAgICAgICAgICAgIHdpZHRoOiA5ODAuMHB4OwogICAgICAgICAgICAgICAgICAgIGhlaWdodDogNTgwLjBweDsKICAgICAgICAgICAgICAgICAgICBsZWZ0OiAwLjAlOwogICAgICAgICAgICAgICAgICAgIHRvcDogMC4wJTsKICAgICAgICAgICAgICAgIH0KICAgICAgICAgICAgPC9zdHlsZT4KICAgICAgICAKPC9oZWFkPgo8Ym9keT4gICAgCiAgICAKICAgICAgICAgICAgPGRpdiBjbGFzcz0iZm9saXVtLW1hcCIgaWQ9Im1hcF9lYTE2ZDk4ZDdlODI0NzNmYjc0ZWY4MzVlYmZjNjk3ZiIgPjwvZGl2PgogICAgICAgIAo8L2JvZHk+CjxzY3JpcHQ+ICAgIAogICAgCiAgICAgICAgICAgIHZhciBtYXBfZWExNmQ5OGQ3ZTgyNDczZmI3NGVmODM1ZWJmYzY5N2YgPSBMLm1hcCgKICAgICAgICAgICAgICAgICJtYXBfZWExNmQ5OGQ3ZTgyNDczZmI3NGVmODM1ZWJmYzY5N2YiLAogICAgICAgICAgICAgICAgewogICAgICAgICAgICAgICAgICAgIGNlbnRlcjogWzUwLjkwOTYxNCwgLTMuNDhdLAogICAgICAgICAgICAgICAgICAgIGNyczogTC5DUlMuRVBTRzM4NTcsCiAgICAgICAgICAgICAgICAgICAgem9vbTogOSwKICAgICAgICAgICAgICAgICAgICB6b29tQ29udHJvbDogdHJ1ZSwKICAgICAgICAgICAgICAgICAgICBwcmVmZXJDYW52YXM6IGZhbHNlLAogICAgICAgICAgICAgICAgfQogICAgICAgICAgICApOwoKICAgICAgICAgICAgCgogICAgICAgIAogICAgCiAgICAgICAgICAgIHZhciB0aWxlX2xheWVyXzA5NTA0MWQyNWUxMjRkZDY4MTEzN2YzZDY5NmRmMWY1ID0gTC50aWxlTGF5ZXIoCiAgICAgICAgICAgICAgICAiaHR0cHM6Ly9jYXJ0b2RiLWJhc2VtYXBzLXtzfS5nbG9iYWwuc3NsLmZhc3RseS5uZXQvbGlnaHRfYWxsL3t6fS97eH0ve3l9LnBuZyIsCiAgICAgICAgICAgICAgICB7ImF0dHJpYnV0aW9uIjogIlx1MDAyNmNvcHk7IFx1MDAzY2EgaHJlZj1cImh0dHA6Ly93d3cub3BlbnN0cmVldG1hcC5vcmcvY29weXJpZ2h0XCJcdTAwM2VPcGVuU3RyZWV0TWFwXHUwMDNjL2FcdTAwM2UgY29udHJpYnV0b3JzIFx1MDAyNmNvcHk7IFx1MDAzY2EgaHJlZj1cImh0dHA6Ly9jYXJ0b2RiLmNvbS9hdHRyaWJ1dGlvbnNcIlx1MDAzZUNhcnRvREJcdTAwM2MvYVx1MDAzZSwgQ2FydG9EQiBcdTAwM2NhIGhyZWYgPVwiaHR0cDovL2NhcnRvZGIuY29tL2F0dHJpYnV0aW9uc1wiXHUwMDNlYXR0cmlidXRpb25zXHUwMDNjL2FcdTAwM2UiLCAiZGV0ZWN0UmV0aW5hIjogZmFsc2UsICJtYXhOYXRpdmVab29tIjogMTgsICJtYXhab29tIjogMTgsICJtaW5ab29tIjogMCwgIm5vV3JhcCI6IGZhbHNlLCAib3BhY2l0eSI6IDEsICJzdWJkb21haW5zIjogImFiYyIsICJ0bXMiOiBmYWxzZX0KICAgICAgICAgICAgKS5hZGRUbyhtYXBfZWExNmQ5OGQ3ZTgyNDczZmI3NGVmODM1ZWJmYzY5N2YpOwogICAgICAgIAogICAgCiAgICAgICAgICAgIHZhciBjaXJjbGVfOGEzMjQyNTZkNGIwNDdkYmE3OGU3ZDBmYjNjZWNiODUgPSBMLmNpcmNsZSgKICAgICAgICAgICAgICAgIFs1MS4yMzMyMDIwODc0Mzg5MDQsIC0yLjk1NjUwMDIzMTIzNTU1OF0sCiAgICAgICAgICAgICAgICB7ImJ1YmJsaW5nTW91c2VFdmVudHMiOiB0cnVlLCAiY29sb3IiOiAiY3JpbXNvbiIsICJkYXNoQXJyYXkiOiBudWxsLCAiZGFzaE9mZnNldCI6IG51bGwsICJmaWxsIjogdHJ1ZSwgImZpbGxDb2xvciI6ICJjcmltc29uIiwgImZpbGxPcGFjaXR5IjogMC4yLCAiZmlsbFJ1bGUiOiAiZXZlbm9kZCIsICJsaW5lQ2FwIjogInJvdW5kIiwgImxpbmVKb2luIjogInJvdW5kIiwgIm9wYWNpdHkiOiAxLjAsICJyYWRpdXMiOiAxMDAwLCAic3Ryb2tlIjogdHJ1ZSwgIndlaWdodCI6IDN9CiAgICAgICAgICAgICkuYWRkVG8obWFwX2VhMTZkOThkN2U4MjQ3M2ZiNzRlZjgzNWViZmM2OTdmKTsKICAgICAgICAKICAgIAogICAgICAgICAgICB2YXIgY2lyY2xlXzkxMTdhOGM1MDQzMDRlOTBiMzhhYmUyZDgxMjlkMDgzID0gTC5jaXJjbGUoCiAgICAgICAgICAgICAgICBbNTAuNTEwNDkyMzM2MTIxOTEsIC0zLjY1MTgyMDM5NTA1NjQzMDVdLAogICAgICAgICAgICAgICAgeyJidWJibGluZ01vdXNlRXZlbnRzIjogdHJ1ZSwgImNvbG9yIjogImNyaW1zb24iLCAiZGFzaEFycmF5IjogbnVsbCwgImRhc2hPZmZzZXQiOiBudWxsLCAiZmlsbCI6IHRydWUsICJmaWxsQ29sb3IiOiAiY3JpbXNvbiIsICJmaWxsT3BhY2l0eSI6IDAuMiwgImZpbGxSdWxlIjogImV2ZW5vZGQiLCAibGluZUNhcCI6ICJyb3VuZCIsICJsaW5lSm9pbiI6ICJyb3VuZCIsICJvcGFjaXR5IjogMS4wLCAicmFkaXVzIjogMTAwMCwgInN0cm9rZSI6IHRydWUsICJ3ZWlnaHQiOiAzfQogICAgICAgICAgICApLmFkZFRvKG1hcF9lYTE2ZDk4ZDdlODI0NzNmYjc0ZWY4MzVlYmZjNjk3Zik7CiAgICAgICAgCiAgICAKICAgICAgICAgICAgdmFyIGNpcmNsZV9lNTBjMmI4YWU4Yzc0YzM1OThkZmMyZjM0NTM3M2NiMSA9IEwuY2lyY2xlKAogICAgICAgICAgICAgICAgWzUwLjQ3MTkxMTY1Njc2ODQ3LCAtMy41MTc1OTc1OTQxODcyOTRdLAogICAgICAgICAgICAgICAgeyJidWJibGluZ01vdXNlRXZlbnRzIjogdHJ1ZSwgImNvbG9yIjogImNyaW1zb24iLCAiZGFzaEFycmF5IjogbnVsbCwgImRhc2hPZmZzZXQiOiBudWxsLCAiZmlsbCI6IHRydWUsICJmaWxsQ29sb3IiOiAiY3JpbXNvbiIsICJmaWxsT3BhY2l0eSI6IDAuMiwgImZpbGxSdWxlIjogImV2ZW5vZGQiLCAibGluZUNhcCI6ICJyb3VuZCIsICJsaW5lSm9pbiI6ICJyb3VuZCIsICJvcGFjaXR5IjogMS4wLCAicmFkaXVzIjogMTAwMCwgInN0cm9rZSI6IHRydWUsICJ3ZWlnaHQiOiAzfQogICAgICAgICAgICApLmFkZFRvKG1hcF9lYTE2ZDk4ZDdlODI0NzNmYjc0ZWY4MzVlYmZjNjk3Zik7CiAgICAgICAgCiAgICAKICAgICAgICAgICAgdmFyIGNpcmNsZV80YmE3NDE4MGQwZDQ0OWQ4YWUzMTU0MDNjNTY2MzRlZiA9IEwuY2lyY2xlKAogICAgICAgICAgICAgICAgWzUwLjQzNDIwNDIxODY2NzQ0NiwgLTMuNzA5OTEwMjAwNDMzNzM3XSwKICAgICAgICAgICAgICAgIHsiYnViYmxpbmdNb3VzZUV2ZW50cyI6IHRydWUsICJjb2xvciI6ICJjcmltc29uIiwgImRhc2hBcnJheSI6IG51bGwsICJkYXNoT2Zmc2V0IjogbnVsbCwgImZpbGwiOiB0cnVlLCAiZmlsbENvbG9yIjogImNyaW1zb24iLCAiZmlsbE9wYWNpdHkiOiAwLjIsICJmaWxsUnVsZSI6ICJldmVub2RkIiwgImxpbmVDYXAiOiAicm91bmQiLCAibGluZUpvaW4iOiAicm91bmQiLCAib3BhY2l0eSI6IDEuMCwgInJhZGl1cyI6IDEwMDAsICJzdHJva2UiOiB0cnVlLCAid2VpZ2h0IjogM30KICAgICAgICAgICAgKS5hZGRUbyhtYXBfZWExNmQ5OGQ3ZTgyNDczZmI3NGVmODM1ZWJmYzY5N2YpOwogICAgICAgIAogICAgCiAgICAgICAgICAgIHZhciBjaXJjbGVfN2Y4ZjBhMmMxM2E0NDg5MDkwMTk5M2RhMzNkMzAyNzcgPSBMLmNpcmNsZSgKICAgICAgICAgICAgICAgIFs1MC4zODUzMDk2MDgwNzMzODUsIC00LjE2OTk1MDE4MTA5NTc0Nl0sCiAgICAgICAgICAgICAgICB7ImJ1YmJsaW5nTW91c2VFdmVudHMiOiB0cnVlLCAiY29sb3IiOiAiY3JpbXNvbiIsICJkYXNoQXJyYXkiOiBudWxsLCAiZGFzaE9mZnNldCI6IG51bGwsICJmaWxsIjogdHJ1ZSwgImZpbGxDb2xvciI6ICJjcmltc29uIiwgImZpbGxPcGFjaXR5IjogMC4yLCAiZmlsbFJ1bGUiOiAiZXZlbm9kZCIsICJsaW5lQ2FwIjogInJvdW5kIiwgImxpbmVKb2luIjogInJvdW5kIiwgIm9wYWNpdHkiOiAxLjAsICJyYWRpdXMiOiAxMDAwLCAic3Ryb2tlIjogdHJ1ZSwgIndlaWdodCI6IDN9CiAgICAgICAgICAgICkuYWRkVG8obWFwX2VhMTZkOThkN2U4MjQ3M2ZiNzRlZjgzNWViZmM2OTdmKTsKICAgICAgICAKICAgIAogICAgICAgICAgICB2YXIgY2lyY2xlX2MxYTE5ZTBhYjBkMzQ5ZDliZDg3M2NhMWYzODAzNDEyID0gTC5jaXJjbGUoCiAgICAgICAgICAgICAgICBbNTAuMzg1NDM1NjU5NjA3NzMsIC00LjA1NjEyMTI2NTg5ODg5OV0sCiAgICAgICAgICAgICAgICB7ImJ1YmJsaW5nTW91c2VFdmVudHMiOiB0cnVlLCAiY29sb3IiOiAiY3JpbXNvbiIsICJkYXNoQXJyYXkiOiBudWxsLCAiZGFzaE9mZnNldCI6IG51bGwsICJmaWxsIjogdHJ1ZSwgImZpbGxDb2xvciI6ICJjcmltc29uIiwgImZpbGxPcGFjaXR5IjogMC4yLCAiZmlsbFJ1bGUiOiAiZXZlbm9kZCIsICJsaW5lQ2FwIjogInJvdW5kIiwgImxpbmVKb2luIjogInJvdW5kIiwgIm9wYWNpdHkiOiAxLjAsICJyYWRpdXMiOiAxMDAwLCAic3Ryb2tlIjogdHJ1ZSwgIndlaWdodCI6IDN9CiAgICAgICAgICAgICkuYWRkVG8obWFwX2VhMTZkOThkN2U4MjQ3M2ZiNzRlZjgzNWViZmM2OTdmKTsKICAgICAgICAKICAgIAogICAgICAgICAgICB2YXIgY2lyY2xlXzI3NzljNWVhNGEyNTRkMTI5MjE0MzI1MWNkMThiYzhiID0gTC5jaXJjbGUoCiAgICAgICAgICAgICAgICBbNTAuNzM4OTY1MTM3MDgxOTQsIC0zLjQ3NTQzNTYwMjI2NTIwNTNdLAogICAgICAgICAgICAgICAgeyJidWJibGluZ01vdXNlRXZlbnRzIjogdHJ1ZSwgImNvbG9yIjogImNyaW1zb24iLCAiZGFzaEFycmF5IjogbnVsbCwgImRhc2hPZmZzZXQiOiBudWxsLCAiZmlsbCI6IHRydWUsICJmaWxsQ29sb3IiOiAiY3JpbXNvbiIsICJmaWxsT3BhY2l0eSI6IDAuMiwgImZpbGxSdWxlIjogImV2ZW5vZGQiLCAibGluZUNhcCI6ICJyb3VuZCIsICJsaW5lSm9pbiI6ICJyb3VuZCIsICJvcGFjaXR5IjogMS4wLCAicmFkaXVzIjogMTAwMCwgInN0cm9rZSI6IHRydWUsICJ3ZWlnaHQiOiAzfQogICAgICAgICAgICApLmFkZFRvKG1hcF9lYTE2ZDk4ZDdlODI0NzNmYjc0ZWY4MzVlYmZjNjk3Zik7CiAgICAgICAgCjwvc2NyaXB0Pg== onload=\"this.contentDocument.open();this.contentDocument.write(atob(this.getAttribute('data-html')));this.contentDocument.close();\" allowfullscreen webkitallowfullscreen mozallowfullscreen></iframe></div></div>"
      ],
      "text/plain": [
       "<folium.folium.Map at 0x29658cb7848>"
      ]
     },
     "execution_count": 26,
     "metadata": {},
     "output_type": "execute_result"
    }
   ],
   "source": [
    "import folium\n",
    "# Build map \n",
    "m = folium.Map(location=(50.909614, -3.48), zoom_start=9, tiles='cartodbpositron', width=980, height=580)\n",
    "\n",
    "# I can add marker one by one on the map\n",
    "for i in range(0,len(rs)):\n",
    "   folium.Circle(\n",
    "      location=[rs.iloc[i]['lon'], rs.iloc[i]['lat']],\n",
    "      #popup=data.iloc[i]['name'],\n",
    "      radius=1000,\n",
    "      #weight=0,\n",
    "      #radius=data.iloc[i]['value']*10000,\n",
    "      color='crimson',\n",
    "      fill=True,\n",
    "      fill_color='crimson'\n",
    "   ).add_to(m)\n",
    "\n",
    "#folium.RegularPolygonMarker(rs[lat, lon], popup='name', fill_color='blue', number_of_sides= 3, radius=pixels ).add_to(m)\n",
    "m"
   ]
  },
  {
   "cell_type": "code",
   "execution_count": 22,
   "metadata": {},
   "outputs": [
    {
     "data": {
      "text/html": [
       "<div style=\"width:100%;\"><div style=\"position:relative;width:100%;height:0;padding-bottom:60%;\"><span style=\"color:#565656\">Make this Notebook Trusted to load map: File -> Trust Notebook</span><iframe src=\"about:blank\" style=\"position:absolute;width:100%;height:100%;left:0;top:0;border:none !important;\" data-html=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 onload=\"this.contentDocument.open();this.contentDocument.write(atob(this.getAttribute('data-html')));this.contentDocument.close();\" allowfullscreen webkitallowfullscreen mozallowfullscreen></iframe></div></div>"
      ],
      "text/plain": [
       "<folium.folium.Map at 0x2965897b1c8>"
      ]
     },
     "execution_count": 22,
     "metadata": {},
     "output_type": "execute_result"
    }
   ],
   "source": [
    "import folium\n",
    "import webbrowser\n",
    "# Build map \n",
    "m = folium.Map(location=(50.909614, -3.48), zoom_start=9, tiles='cartodbpositron', control_scale=True)\n",
    "\n",
    "# set custom name for base layer\n",
    "#m = folium.Map((0, 0), tiles=None)\n",
    "#folium.TileLayer('cartodbpositron', name='my tilelayer').add_to(m)\n",
    "\n",
    "layer = folium.FeatureGroup(name='Clusters', show=True)\n",
    "\n",
    "# add marker one by one on the map\n",
    "for i in range(0,len(rs)):\n",
    "   folium.CircleMarker(location=[rs.iloc[i]['lon'], rs.iloc[i]['lat']], color='crimson', fill=True,\n",
    "      fill_color='crimson', fillOpacity= 0.8, radius=10, weight=0).add_to(layer)\n",
    "\n",
    "sw = rs[['lon', 'lat']].min().values.tolist()\n",
    "ne = rs[['lon', 'lat']].max().values.tolist()\n",
    "\n",
    "m.fit_bounds([sw, ne])\n",
    "layer.add_to(m)\n",
    "folium.LayerControl().add_to(m)\n",
    "m\n",
    "#m.save('plot_data.html')\n",
    "# Import the Folium interactive html file\n",
    "#from IPython.display import HTML\n",
    "#HTML('<iframe src=plot_data.html</iframe>')\n",
    "#webbrowser.open('plot_data.html', new=2) "
   ]
  },
  {
   "cell_type": "code",
   "execution_count": null,
   "metadata": {},
   "outputs": [],
   "source": []
  }
 ],
 "metadata": {
  "kernelspec": {
   "display_name": "Python 3.7.4 64-bit",
   "language": "python",
   "name": "python37464bit127b38de58f54e978c5b450628d48763"
  },
  "language_info": {
   "codemirror_mode": {
    "name": "ipython",
    "version": 3
   },
   "file_extension": ".py",
   "mimetype": "text/x-python",
   "name": "python",
   "nbconvert_exporter": "python",
   "pygments_lexer": "ipython3",
   "version": "3.7.4"
  }
 },
 "nbformat": 4,
 "nbformat_minor": 2
}
