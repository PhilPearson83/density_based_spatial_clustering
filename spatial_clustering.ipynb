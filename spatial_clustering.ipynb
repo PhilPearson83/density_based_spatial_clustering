{
 "cells": [
  {
   "cell_type": "code",
   "execution_count": 1,
   "metadata": {},
   "outputs": [],
   "source": [
    "import pandas as pd\n",
    "import geopandas as gpd\n",
    "import numpy as np\n",
    "import matplotlib.pyplot as plt\n",
    "from ipyleaflet import *\n",
    "from ipywidgets import Layout\n",
    "import os\n",
    "from sklearn.cluster import DBSCAN\n",
    "from sklearn import metrics\n",
    "from geopy.distance import great_circle\n",
    "from shapely.geometry import MultiPoint\n",
    "import pyodbc\n",
    "from pyproj import Transformer\n",
    "\n",
    "%matplotlib inline\n",
    "%load_ext line_profiler"
   ]
  },
  {
   "cell_type": "code",
   "execution_count": 2,
   "metadata": {},
   "outputs": [],
   "source": [
    "#find working folder\n",
    "dir_path = os.getcwd()"
   ]
  },
  {
   "cell_type": "code",
   "execution_count": 3,
   "metadata": {},
   "outputs": [],
   "source": [
    "def gen_spatial_data():\n",
    "    sz = 13**3\n",
    "    df = pd.DataFrame(np.random.randint(240000,380000, (sz, 1)), columns=['EASTING'])\n",
    "    df['NORTHING'] = np.random.randint(35000, 130000, (sz, 1))\n",
    "    df['date'] = pd.date_range('2000-01-01', freq='1S', periods=len(df))\n",
    "    df['dt2'] = pd.date_range('1980-01-01', freq='999S', periods=len(df))\n",
    "    df['f1'] = np.random.rand(len(df))\n",
    "    df['f2'] = np.random.rand(len(df))\n",
    "    return df"
   ]
  },
  {
   "cell_type": "code",
   "execution_count": 4,
   "metadata": {},
   "outputs": [
    {
     "data": {
      "text/html": [
       "<div>\n",
       "<style scoped>\n",
       "    .dataframe tbody tr th:only-of-type {\n",
       "        vertical-align: middle;\n",
       "    }\n",
       "\n",
       "    .dataframe tbody tr th {\n",
       "        vertical-align: top;\n",
       "    }\n",
       "\n",
       "    .dataframe thead th {\n",
       "        text-align: right;\n",
       "    }\n",
       "</style>\n",
       "<table border=\"1\" class=\"dataframe\">\n",
       "  <thead>\n",
       "    <tr style=\"text-align: right;\">\n",
       "      <th></th>\n",
       "      <th>cat</th>\n",
       "      <th>ID</th>\n",
       "      <th>geometry</th>\n",
       "    </tr>\n",
       "  </thead>\n",
       "  <tbody>\n",
       "    <tr>\n",
       "      <th>0</th>\n",
       "      <td>1</td>\n",
       "      <td>0</td>\n",
       "      <td>POLYGON ((-3.51005 50.54224, -3.51042 50.54599...</td>\n",
       "    </tr>\n",
       "  </tbody>\n",
       "</table>\n",
       "</div>"
      ],
      "text/plain": [
       "   cat  ID                                           geometry\n",
       "0    1   0  POLYGON ((-3.51005 50.54224, -3.51042 50.54599..."
      ]
     },
     "execution_count": 4,
     "metadata": {},
     "output_type": "execute_result"
    }
   ],
   "source": [
    "b = gpd.read_file(dir_path + \"/data/geospatial/DSFRS_Service_Area.shp\")\n",
    "#b = b.to_crs(\"epsg:4326\")\n",
    "b = b.to_crs(epsg=4326)\n",
    "b\n",
    "#transformer = Transformer.from_crs(\"epsg:27700\", \"epsg:4326\")\n",
    "#boundary = transformer.transform(boundary['geometry'])\n",
    "#boundary.crs"
   ]
  },
  {
   "cell_type": "code",
   "execution_count": null,
   "metadata": {},
   "outputs": [],
   "source": [
    "# connection to server and databse\n",
    "try:\n",
    "    conn = pyodbc.connect(\"Driver={SQL Server Native Client 11.0};\"\n",
    "                      \"Server=SQL1\\\\LIVE1;\"\n",
    "                      \"Database=CommonData;\"\n",
    "                      \"Trusted_Connection=yes;\",\n",
    "                       timeout=1)\n",
    "    # Read the sql file\n",
    "    query = open(dir_path + '/' + 'ers_failures.sql', 'r')\n",
    "    # read the sql query and connection and create a dataframe\n",
    "    df = pd.read_sql(query.read(), conn)\n",
    "    # convert x/y columns to number from text\n",
    "    df[[\"EASTING\", \"NORTHING\"]] = df[[\"EASTING\", \"NORTHING\"]].apply(pd.to_numeric)\n",
    "except:\n",
    "    #print(\"Connetion to Database timed out\")\n",
    "    df = gen_spatial_data()\n",
    "#print(df.info())"
   ]
  },
  {
   "cell_type": "code",
   "execution_count": null,
   "metadata": {},
   "outputs": [],
   "source": [
    "#%timeit df"
   ]
  },
  {
   "cell_type": "code",
   "execution_count": null,
   "metadata": {},
   "outputs": [],
   "source": [
    "def vectorized_convert(df):\n",
    "    transformer = Transformer.from_crs(\"epsg:27700\", \"epsg:4326\")\n",
    "    converted = transformer.transform(df['EASTING'].tolist(), df['NORTHING'].tolist())\n",
    "    df['lat'] = converted[1]\n",
    "    df['lon'] = converted[0]\n",
    "    return df\n",
    "vec = vectorized_convert(df)\n",
    "#%lprun -f vectorized_convert vectorized_convert(vec)"
   ]
  },
  {
   "cell_type": "code",
   "execution_count": null,
   "metadata": {},
   "outputs": [],
   "source": [
    "coords = vec[['lat', 'lon']].values\n",
    "miles = 2\n",
    "conversion_factor = 0.62137119\n",
    "kilometers = miles / conversion_factor\n",
    "kms_per_radian = 6371.0088\n",
    "epsilon = kilometers / kms_per_radian\n",
    "db = DBSCAN(eps=epsilon, min_samples=12, metric='haversine', algorithm='ball_tree').fit(np.radians(coords))\n",
    "cluster_labels = db.labels_\n",
    "#print(cluster_labels)"
   ]
  },
  {
   "cell_type": "code",
   "execution_count": null,
   "metadata": {},
   "outputs": [],
   "source": [
    "# calculate the number of clusters\n",
    "num_clusters = len(set(cluster_labels)) - (1 if -1 in cluster_labels else 0)\n",
    "print('Number of clusters: {}'.format(num_clusters))\n",
    "clusters = pd.Series([coords[cluster_labels == n] for n in range(num_clusters)])\n",
    "print(clusters)\n",
    "# identify core points\n",
    "core_points = np.zeros_like(cluster_labels, dtype = bool)\n",
    "core_points[db.core_sample_indices_] = True\n",
    "#print(core_points)\n",
    "print(\"Silhouette Coefficient: %0.3f\" % metrics.silhouette_score(coords, cluster_labels))"
   ]
  },
  {
   "cell_type": "code",
   "execution_count": null,
   "metadata": {},
   "outputs": [],
   "source": [
    "def get_centermost_point(cluster):\n",
    "    centroid = (MultiPoint(cluster).centroid.x, MultiPoint(cluster).centroid.y)\n",
    "    centermost_point = min(cluster, key=lambda point: great_circle(point, centroid).m)\n",
    "    return tuple(centermost_point)\n",
    "centermost_points = clusters.map(get_centermost_point)\n",
    "#print(centermost_points)\n",
    "#centermost_points.to_csv(\"centre.csv\", index=False)\n",
    "lats, lons = zip(*centermost_points)\n",
    "rep_points = pd.DataFrame({'lat':lats, 'lon':lons})\n",
    "rs = rep_points\n",
    "#rs = rep_points.apply(lambda row: df[(df['lat']==row['lat']) &amp;&amp; (df['lon']==row['lon'])].iloc[0], axis=1)"
   ]
  },
  {
   "cell_type": "code",
   "execution_count": null,
   "metadata": {},
   "outputs": [],
   "source": [
    "fig, ax = plt.subplots(figsize=[18, 10])\n",
    "rs_scatter = ax.scatter(rs['lat'], rs['lon'], c='#99cc99', edgecolor='None', alpha=0.7, s=300)\n",
    "df_scatter = ax.scatter(df['lat'], df['lon'], c='k', alpha=0.9, s=3)\n",
    "ax.set_title('Full data set vs DBSCAN reduced set')\n",
    "ax.set_xlabel('Latitude')\n",
    "ax.set_ylabel('Longitude')\n",
    "ax.legend([df_scatter, rs_scatter], ['Full set', 'Reduced set'], loc='upper right')\n",
    "plt.show()"
   ]
  },
  {
   "cell_type": "code",
   "execution_count": null,
   "metadata": {},
   "outputs": [],
   "source": [
    "gdf = gpd.GeoDataFrame(rs, geometry=gpd.points_from_xy(rs['lat'], rs['lon']),crs=\"EPSG:4326\")\n",
    "\n",
    "geo_data = GeoData(geo_dataframe = gdf,\n",
    "                   style={'color': 'black', 'fillColor': '#3366cc', 'opacity':0.05, 'weight':1.9, 'dashArray':'2', 'fillOpacity':0.6},\n",
    "                   hover_style={'fillColor': 'red' , 'fillOpacity': 0.2},\n",
    "                   name = 'Countries')"
   ]
  },
  {
   "cell_type": "code",
   "execution_count": null,
   "metadata": {},
   "outputs": [],
   "source": [
    "import folium\n",
    "import webbrowser\n",
    "# Build map \n",
    "m = folium.Map(location=(50.909614, -3.48), zoom_start=9, zoomSnap=0.1, zoomDelta=0.5, tiles='cartodbpositron', control_scale=True)\n",
    "\n",
    "# set custom name for base layer\n",
    "#m = folium.Map((0, 0), tiles=None)\n",
    "#folium.TileLayer('cartodbpositron', name='my tilelayer').add_to(m)\n",
    "\n",
    "layer = folium.FeatureGroup(name='Clusters', show=True)\n",
    "layer2 = folium.FeatureGroup(name='Points', show=True)\n",
    "\n",
    "\n",
    "# add marker one by one on the map\n",
    "for i in range(0,len(rs)):\n",
    "   folium.CircleMarker(location=[rs.iloc[i]['lon'], rs.iloc[i]['lat']], radius=10, stroke=True, color='crimson', weight=2, fill=True,\n",
    "      fill_color='crimson', fillOpacity=1).add_to(layer)\n",
    "\n",
    "# add marker one by one on the map\n",
    "for i in range(0,len(df)):\n",
    "   folium.CircleMarker(location=[df.iloc[i]['lon'], df.iloc[i]['lat']], radius=1, stroke=True, color='green', weight=2, fill=True,\n",
    "      fill_color='green', fillOpacity=1).add_to(layer2)\n",
    "\n",
    "sw = df[['lon', 'lat']].min().values.tolist()\n",
    "ne = df[['lon', 'lat']].max().values.tolist()\n",
    "\n",
    "m.fit_bounds([sw, ne])\n",
    "layer.add_to(m)\n",
    "layer2.add_to(m)\n",
    "folium.LayerControl().add_to(m)\n",
    "m"
   ]
  },
  {
   "cell_type": "code",
   "execution_count": null,
   "metadata": {},
   "outputs": [],
   "source": [
    "#m.save('plot_data.html')\n",
    "# Import the Folium interactive html file\n",
    "#from IPython.display import HTML\n",
    "#HTML('<iframe src=plot_data.html</iframe>')\n",
    "#webbrowser.open('plot_data.html', new=2) "
   ]
  }
 ],
 "metadata": {
  "kernelspec": {
   "display_name": "Python 3.7.4 64-bit",
   "language": "python",
   "name": "python3"
  },
  "language_info": {
   "codemirror_mode": {
    "name": "ipython",
    "version": 3
   },
   "file_extension": ".py",
   "mimetype": "text/x-python",
   "name": "python",
   "nbconvert_exporter": "python",
   "pygments_lexer": "ipython3",
   "version": "3.7.4"
  }
 },
 "nbformat": 4,
 "nbformat_minor": 2
}
